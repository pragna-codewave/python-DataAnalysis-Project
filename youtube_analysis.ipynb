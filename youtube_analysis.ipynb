{
 "cells": [
  {
   "cell_type": "code",
   "execution_count": 1,
   "id": "1440a5ae",
   "metadata": {},
   "outputs": [],
   "source": [
    "import matplotlib.pyplot as plt\n",
    "import numpy as np\n",
    "import pandas as pd\n",
    "import seaborn as sns"
   ]
  },
  {
   "cell_type": "code",
   "execution_count": 2,
   "id": "a35f3596",
   "metadata": {},
   "outputs": [
    {
     "name": "stderr",
     "output_type": "stream",
     "text": [
      "C:\\Users\\ASUS\\AppData\\Local\\Temp\\ipykernel_17484\\2614490549.py:1: DtypeWarning: Columns (2,3) have mixed types. Specify dtype option on import or set low_memory=False.\n",
      "  comments = pd.read_csv(\"C:/Users/ASUS/Desktop/Python/Projects/UScomments.csv\",on_bad_lines ='skip')\n"
     ]
    },
    {
     "data": {
      "text/html": [
       "<div>\n",
       "<style scoped>\n",
       "    .dataframe tbody tr th:only-of-type {\n",
       "        vertical-align: middle;\n",
       "    }\n",
       "\n",
       "    .dataframe tbody tr th {\n",
       "        vertical-align: top;\n",
       "    }\n",
       "\n",
       "    .dataframe thead th {\n",
       "        text-align: right;\n",
       "    }\n",
       "</style>\n",
       "<table border=\"1\" class=\"dataframe\">\n",
       "  <thead>\n",
       "    <tr style=\"text-align: right;\">\n",
       "      <th></th>\n",
       "      <th>video_id</th>\n",
       "      <th>comment_text</th>\n",
       "      <th>likes</th>\n",
       "      <th>replies</th>\n",
       "    </tr>\n",
       "  </thead>\n",
       "  <tbody>\n",
       "    <tr>\n",
       "      <th>0</th>\n",
       "      <td>XpVt6Z1Gjjo</td>\n",
       "      <td>Logan Paul it's yo big day ‼️‼️‼️</td>\n",
       "      <td>4</td>\n",
       "      <td>0</td>\n",
       "    </tr>\n",
       "    <tr>\n",
       "      <th>1</th>\n",
       "      <td>XpVt6Z1Gjjo</td>\n",
       "      <td>I've been following you from the start of your...</td>\n",
       "      <td>3</td>\n",
       "      <td>0</td>\n",
       "    </tr>\n",
       "    <tr>\n",
       "      <th>2</th>\n",
       "      <td>XpVt6Z1Gjjo</td>\n",
       "      <td>Say hi to Kong and maverick for me</td>\n",
       "      <td>3</td>\n",
       "      <td>0</td>\n",
       "    </tr>\n",
       "    <tr>\n",
       "      <th>3</th>\n",
       "      <td>XpVt6Z1Gjjo</td>\n",
       "      <td>MY FAN . attendance</td>\n",
       "      <td>3</td>\n",
       "      <td>0</td>\n",
       "    </tr>\n",
       "    <tr>\n",
       "      <th>4</th>\n",
       "      <td>XpVt6Z1Gjjo</td>\n",
       "      <td>trending 😉</td>\n",
       "      <td>3</td>\n",
       "      <td>0</td>\n",
       "    </tr>\n",
       "    <tr>\n",
       "      <th>...</th>\n",
       "      <td>...</td>\n",
       "      <td>...</td>\n",
       "      <td>...</td>\n",
       "      <td>...</td>\n",
       "    </tr>\n",
       "    <tr>\n",
       "      <th>691395</th>\n",
       "      <td>EoejGgUNmVU</td>\n",
       "      <td>Лучшая</td>\n",
       "      <td>1</td>\n",
       "      <td>0</td>\n",
       "    </tr>\n",
       "    <tr>\n",
       "      <th>691396</th>\n",
       "      <td>EoejGgUNmVU</td>\n",
       "      <td>qu'est ce que j'aimerais que tu viennes à Roan...</td>\n",
       "      <td>0</td>\n",
       "      <td>0</td>\n",
       "    </tr>\n",
       "    <tr>\n",
       "      <th>691397</th>\n",
       "      <td>EoejGgUNmVU</td>\n",
       "      <td>Ven a mexico! 😍 te amo LP</td>\n",
       "      <td>0</td>\n",
       "      <td>0</td>\n",
       "    </tr>\n",
       "    <tr>\n",
       "      <th>691398</th>\n",
       "      <td>EoejGgUNmVU</td>\n",
       "      <td>Islığı yeter...</td>\n",
       "      <td>0</td>\n",
       "      <td>0</td>\n",
       "    </tr>\n",
       "    <tr>\n",
       "      <th>691399</th>\n",
       "      <td>EoejGgUNmVU</td>\n",
       "      <td>Kocham tą piosenkę😍❤❤❤byłam zakochana po uszy ...</td>\n",
       "      <td>0</td>\n",
       "      <td>0</td>\n",
       "    </tr>\n",
       "  </tbody>\n",
       "</table>\n",
       "<p>691400 rows × 4 columns</p>\n",
       "</div>"
      ],
      "text/plain": [
       "           video_id                                       comment_text likes  \\\n",
       "0       XpVt6Z1Gjjo                  Logan Paul it's yo big day ‼️‼️‼️     4   \n",
       "1       XpVt6Z1Gjjo  I've been following you from the start of your...     3   \n",
       "2       XpVt6Z1Gjjo                 Say hi to Kong and maverick for me     3   \n",
       "3       XpVt6Z1Gjjo                                MY FAN . attendance     3   \n",
       "4       XpVt6Z1Gjjo                                         trending 😉     3   \n",
       "...             ...                                                ...   ...   \n",
       "691395  EoejGgUNmVU                                             Лучшая     1   \n",
       "691396  EoejGgUNmVU  qu'est ce que j'aimerais que tu viennes à Roan...     0   \n",
       "691397  EoejGgUNmVU                          Ven a mexico! 😍 te amo LP     0   \n",
       "691398  EoejGgUNmVU                                    Islığı yeter...     0   \n",
       "691399  EoejGgUNmVU  Kocham tą piosenkę😍❤❤❤byłam zakochana po uszy ...     0   \n",
       "\n",
       "       replies  \n",
       "0            0  \n",
       "1            0  \n",
       "2            0  \n",
       "3            0  \n",
       "4            0  \n",
       "...        ...  \n",
       "691395       0  \n",
       "691396       0  \n",
       "691397       0  \n",
       "691398       0  \n",
       "691399       0  \n",
       "\n",
       "[691400 rows x 4 columns]"
      ]
     },
     "execution_count": 2,
     "metadata": {},
     "output_type": "execute_result"
    }
   ],
   "source": [
    "comments = pd.read_csv(\"C:/Users/ASUS/Desktop/Python/Projects/UScomments.csv\",on_bad_lines ='skip')\n",
    "comments"
   ]
  },
  {
   "cell_type": "code",
   "execution_count": 3,
   "id": "0febb534",
   "metadata": {},
   "outputs": [
    {
     "data": {
      "text/html": [
       "<div>\n",
       "<style scoped>\n",
       "    .dataframe tbody tr th:only-of-type {\n",
       "        vertical-align: middle;\n",
       "    }\n",
       "\n",
       "    .dataframe tbody tr th {\n",
       "        vertical-align: top;\n",
       "    }\n",
       "\n",
       "    .dataframe thead th {\n",
       "        text-align: right;\n",
       "    }\n",
       "</style>\n",
       "<table border=\"1\" class=\"dataframe\">\n",
       "  <thead>\n",
       "    <tr style=\"text-align: right;\">\n",
       "      <th></th>\n",
       "      <th>video_id</th>\n",
       "      <th>comment_text</th>\n",
       "      <th>likes</th>\n",
       "      <th>replies</th>\n",
       "    </tr>\n",
       "  </thead>\n",
       "  <tbody>\n",
       "    <tr>\n",
       "      <th>0</th>\n",
       "      <td>XpVt6Z1Gjjo</td>\n",
       "      <td>Logan Paul it's yo big day ‼️‼️‼️</td>\n",
       "      <td>4</td>\n",
       "      <td>0</td>\n",
       "    </tr>\n",
       "    <tr>\n",
       "      <th>1</th>\n",
       "      <td>XpVt6Z1Gjjo</td>\n",
       "      <td>I've been following you from the start of your...</td>\n",
       "      <td>3</td>\n",
       "      <td>0</td>\n",
       "    </tr>\n",
       "    <tr>\n",
       "      <th>2</th>\n",
       "      <td>XpVt6Z1Gjjo</td>\n",
       "      <td>Say hi to Kong and maverick for me</td>\n",
       "      <td>3</td>\n",
       "      <td>0</td>\n",
       "    </tr>\n",
       "    <tr>\n",
       "      <th>3</th>\n",
       "      <td>XpVt6Z1Gjjo</td>\n",
       "      <td>MY FAN . attendance</td>\n",
       "      <td>3</td>\n",
       "      <td>0</td>\n",
       "    </tr>\n",
       "    <tr>\n",
       "      <th>4</th>\n",
       "      <td>XpVt6Z1Gjjo</td>\n",
       "      <td>trending 😉</td>\n",
       "      <td>3</td>\n",
       "      <td>0</td>\n",
       "    </tr>\n",
       "  </tbody>\n",
       "</table>\n",
       "</div>"
      ],
      "text/plain": [
       "      video_id                                       comment_text likes  \\\n",
       "0  XpVt6Z1Gjjo                  Logan Paul it's yo big day ‼️‼️‼️     4   \n",
       "1  XpVt6Z1Gjjo  I've been following you from the start of your...     3   \n",
       "2  XpVt6Z1Gjjo                 Say hi to Kong and maverick for me     3   \n",
       "3  XpVt6Z1Gjjo                                MY FAN . attendance     3   \n",
       "4  XpVt6Z1Gjjo                                         trending 😉     3   \n",
       "\n",
       "  replies  \n",
       "0       0  \n",
       "1       0  \n",
       "2       0  \n",
       "3       0  \n",
       "4       0  "
      ]
     },
     "execution_count": 3,
     "metadata": {},
     "output_type": "execute_result"
    }
   ],
   "source": [
    "comments.head(5)"
   ]
  },
  {
   "cell_type": "code",
   "execution_count": 4,
   "id": "45c1a2be",
   "metadata": {},
   "outputs": [
    {
     "data": {
      "text/html": [
       "<div>\n",
       "<style scoped>\n",
       "    .dataframe tbody tr th:only-of-type {\n",
       "        vertical-align: middle;\n",
       "    }\n",
       "\n",
       "    .dataframe tbody tr th {\n",
       "        vertical-align: top;\n",
       "    }\n",
       "\n",
       "    .dataframe thead th {\n",
       "        text-align: right;\n",
       "    }\n",
       "</style>\n",
       "<table border=\"1\" class=\"dataframe\">\n",
       "  <thead>\n",
       "    <tr style=\"text-align: right;\">\n",
       "      <th></th>\n",
       "      <th>video_id</th>\n",
       "      <th>comment_text</th>\n",
       "      <th>likes</th>\n",
       "      <th>replies</th>\n",
       "    </tr>\n",
       "  </thead>\n",
       "  <tbody>\n",
       "    <tr>\n",
       "      <th>0</th>\n",
       "      <td>False</td>\n",
       "      <td>False</td>\n",
       "      <td>False</td>\n",
       "      <td>False</td>\n",
       "    </tr>\n",
       "    <tr>\n",
       "      <th>1</th>\n",
       "      <td>False</td>\n",
       "      <td>False</td>\n",
       "      <td>False</td>\n",
       "      <td>False</td>\n",
       "    </tr>\n",
       "    <tr>\n",
       "      <th>2</th>\n",
       "      <td>False</td>\n",
       "      <td>False</td>\n",
       "      <td>False</td>\n",
       "      <td>False</td>\n",
       "    </tr>\n",
       "    <tr>\n",
       "      <th>3</th>\n",
       "      <td>False</td>\n",
       "      <td>False</td>\n",
       "      <td>False</td>\n",
       "      <td>False</td>\n",
       "    </tr>\n",
       "    <tr>\n",
       "      <th>4</th>\n",
       "      <td>False</td>\n",
       "      <td>False</td>\n",
       "      <td>False</td>\n",
       "      <td>False</td>\n",
       "    </tr>\n",
       "    <tr>\n",
       "      <th>...</th>\n",
       "      <td>...</td>\n",
       "      <td>...</td>\n",
       "      <td>...</td>\n",
       "      <td>...</td>\n",
       "    </tr>\n",
       "    <tr>\n",
       "      <th>691395</th>\n",
       "      <td>False</td>\n",
       "      <td>False</td>\n",
       "      <td>False</td>\n",
       "      <td>False</td>\n",
       "    </tr>\n",
       "    <tr>\n",
       "      <th>691396</th>\n",
       "      <td>False</td>\n",
       "      <td>False</td>\n",
       "      <td>False</td>\n",
       "      <td>False</td>\n",
       "    </tr>\n",
       "    <tr>\n",
       "      <th>691397</th>\n",
       "      <td>False</td>\n",
       "      <td>False</td>\n",
       "      <td>False</td>\n",
       "      <td>False</td>\n",
       "    </tr>\n",
       "    <tr>\n",
       "      <th>691398</th>\n",
       "      <td>False</td>\n",
       "      <td>False</td>\n",
       "      <td>False</td>\n",
       "      <td>False</td>\n",
       "    </tr>\n",
       "    <tr>\n",
       "      <th>691399</th>\n",
       "      <td>False</td>\n",
       "      <td>False</td>\n",
       "      <td>False</td>\n",
       "      <td>False</td>\n",
       "    </tr>\n",
       "  </tbody>\n",
       "</table>\n",
       "<p>691400 rows × 4 columns</p>\n",
       "</div>"
      ],
      "text/plain": [
       "        video_id  comment_text  likes  replies\n",
       "0          False         False  False    False\n",
       "1          False         False  False    False\n",
       "2          False         False  False    False\n",
       "3          False         False  False    False\n",
       "4          False         False  False    False\n",
       "...          ...           ...    ...      ...\n",
       "691395     False         False  False    False\n",
       "691396     False         False  False    False\n",
       "691397     False         False  False    False\n",
       "691398     False         False  False    False\n",
       "691399     False         False  False    False\n",
       "\n",
       "[691400 rows x 4 columns]"
      ]
     },
     "execution_count": 4,
     "metadata": {},
     "output_type": "execute_result"
    }
   ],
   "source": [
    "comments.isnull()"
   ]
  },
  {
   "cell_type": "code",
   "execution_count": 5,
   "id": "042eb121",
   "metadata": {},
   "outputs": [
    {
     "data": {
      "text/plain": [
       "video_id         0\n",
       "comment_text    26\n",
       "likes            0\n",
       "replies          0\n",
       "dtype: int64"
      ]
     },
     "execution_count": 5,
     "metadata": {},
     "output_type": "execute_result"
    }
   ],
   "source": [
    "comments.isnull().sum()"
   ]
  },
  {
   "cell_type": "code",
   "execution_count": 6,
   "id": "9d969263",
   "metadata": {},
   "outputs": [],
   "source": [
    "comments.dropna(inplace = True)"
   ]
  },
  {
   "cell_type": "code",
   "execution_count": 7,
   "id": "c9e36389",
   "metadata": {},
   "outputs": [
    {
     "data": {
      "text/plain": [
       "video_id        0\n",
       "comment_text    0\n",
       "likes           0\n",
       "replies         0\n",
       "dtype: int64"
      ]
     },
     "execution_count": 7,
     "metadata": {},
     "output_type": "execute_result"
    }
   ],
   "source": [
    "comments.isnull().sum()"
   ]
  },
  {
   "cell_type": "markdown",
   "id": "ff019fdb",
   "metadata": {},
   "source": [
    "Sentiment Analysis"
   ]
  },
  {
   "cell_type": "code",
   "execution_count": 8,
   "id": "ee33638a",
   "metadata": {},
   "outputs": [],
   "source": [
    "import nltk"
   ]
  },
  {
   "cell_type": "code",
   "execution_count": 9,
   "id": "ce4b2f2b",
   "metadata": {},
   "outputs": [
    {
     "name": "stderr",
     "output_type": "stream",
     "text": [
      "[nltk_data] Downloading package vader_lexicon to\n",
      "[nltk_data]     C:\\Users\\ASUS\\AppData\\Roaming\\nltk_data...\n",
      "[nltk_data]   Package vader_lexicon is already up-to-date!\n"
     ]
    },
    {
     "data": {
      "text/plain": [
       "True"
      ]
     },
     "execution_count": 9,
     "metadata": {},
     "output_type": "execute_result"
    }
   ],
   "source": [
    "nltk.download(\"vader_lexicon\")"
   ]
  },
  {
   "cell_type": "code",
   "execution_count": 10,
   "id": "31acebb6",
   "metadata": {},
   "outputs": [],
   "source": [
    "from nltk.sentiment.vader import SentimentIntensityAnalyzer"
   ]
  },
  {
   "cell_type": "code",
   "execution_count": 11,
   "id": "82ab9155",
   "metadata": {},
   "outputs": [],
   "source": [
    "sia = SentimentIntensityAnalyzer()"
   ]
  },
  {
   "cell_type": "code",
   "execution_count": 12,
   "id": "34775fcb",
   "metadata": {},
   "outputs": [
    {
     "data": {
      "text/plain": [
       "0                         Logan Paul it's yo big day ‼️‼️‼️\n",
       "1         I've been following you from the start of your...\n",
       "2                        Say hi to Kong and maverick for me\n",
       "3                                       MY FAN . attendance\n",
       "4                                                trending 😉\n",
       "                                ...                        \n",
       "691395                                               Лучшая\n",
       "691396    qu'est ce que j'aimerais que tu viennes à Roan...\n",
       "691397                            Ven a mexico! 😍 te amo LP\n",
       "691398                                      Islığı yeter...\n",
       "691399    Kocham tą piosenkę😍❤❤❤byłam zakochana po uszy ...\n",
       "Name: comment_text, Length: 691374, dtype: object"
      ]
     },
     "execution_count": 12,
     "metadata": {},
     "output_type": "execute_result"
    }
   ],
   "source": [
    "comments[\"comment_text\"]"
   ]
  },
  {
   "cell_type": "code",
   "execution_count": 13,
   "id": "ad3dcf29",
   "metadata": {},
   "outputs": [
    {
     "data": {
      "text/plain": [
       "{'neg': 0.382, 'neu': 0.618, 'pos': 0.0, 'compound': -0.4754}"
      ]
     },
     "execution_count": 13,
     "metadata": {},
     "output_type": "execute_result"
    }
   ],
   "source": [
    "sia.polarity_scores('Iam very unhappy with the weather')"
   ]
  },
  {
   "cell_type": "code",
   "execution_count": 14,
   "id": "9c4e8d25",
   "metadata": {},
   "outputs": [],
   "source": [
    "sentiment_scores = []\n",
    "\n",
    "for comment in comments[\"comment_text\"]:\n",
    "    score = sia.polarity_scores(str(comment))[\"compound\"]\n",
    "    sentiment_scores.append(score)\n"
   ]
  },
  {
   "cell_type": "code",
   "execution_count": 15,
   "id": "5da1b30e",
   "metadata": {},
   "outputs": [],
   "source": [
    "comments[\"polarity\"] = sentiment_scores"
   ]
  },
  {
   "cell_type": "code",
   "execution_count": 16,
   "id": "cbda9363",
   "metadata": {},
   "outputs": [
    {
     "data": {
      "text/html": [
       "<div>\n",
       "<style scoped>\n",
       "    .dataframe tbody tr th:only-of-type {\n",
       "        vertical-align: middle;\n",
       "    }\n",
       "\n",
       "    .dataframe tbody tr th {\n",
       "        vertical-align: top;\n",
       "    }\n",
       "\n",
       "    .dataframe thead th {\n",
       "        text-align: right;\n",
       "    }\n",
       "</style>\n",
       "<table border=\"1\" class=\"dataframe\">\n",
       "  <thead>\n",
       "    <tr style=\"text-align: right;\">\n",
       "      <th></th>\n",
       "      <th>video_id</th>\n",
       "      <th>comment_text</th>\n",
       "      <th>likes</th>\n",
       "      <th>replies</th>\n",
       "      <th>polarity</th>\n",
       "    </tr>\n",
       "  </thead>\n",
       "  <tbody>\n",
       "    <tr>\n",
       "      <th>0</th>\n",
       "      <td>XpVt6Z1Gjjo</td>\n",
       "      <td>Logan Paul it's yo big day ‼️‼️‼️</td>\n",
       "      <td>4</td>\n",
       "      <td>0</td>\n",
       "      <td>0.0000</td>\n",
       "    </tr>\n",
       "    <tr>\n",
       "      <th>1</th>\n",
       "      <td>XpVt6Z1Gjjo</td>\n",
       "      <td>I've been following you from the start of your...</td>\n",
       "      <td>3</td>\n",
       "      <td>0</td>\n",
       "      <td>0.0000</td>\n",
       "    </tr>\n",
       "    <tr>\n",
       "      <th>2</th>\n",
       "      <td>XpVt6Z1Gjjo</td>\n",
       "      <td>Say hi to Kong and maverick for me</td>\n",
       "      <td>3</td>\n",
       "      <td>0</td>\n",
       "      <td>0.0000</td>\n",
       "    </tr>\n",
       "    <tr>\n",
       "      <th>3</th>\n",
       "      <td>XpVt6Z1Gjjo</td>\n",
       "      <td>MY FAN . attendance</td>\n",
       "      <td>3</td>\n",
       "      <td>0</td>\n",
       "      <td>0.4648</td>\n",
       "    </tr>\n",
       "    <tr>\n",
       "      <th>4</th>\n",
       "      <td>XpVt6Z1Gjjo</td>\n",
       "      <td>trending 😉</td>\n",
       "      <td>3</td>\n",
       "      <td>0</td>\n",
       "      <td>0.0000</td>\n",
       "    </tr>\n",
       "    <tr>\n",
       "      <th>5</th>\n",
       "      <td>XpVt6Z1Gjjo</td>\n",
       "      <td>#1 on trending AYYEEEEE</td>\n",
       "      <td>3</td>\n",
       "      <td>0</td>\n",
       "      <td>0.0000</td>\n",
       "    </tr>\n",
       "    <tr>\n",
       "      <th>6</th>\n",
       "      <td>XpVt6Z1Gjjo</td>\n",
       "      <td>The end though 😭👍🏻❤️</td>\n",
       "      <td>4</td>\n",
       "      <td>0</td>\n",
       "      <td>0.0000</td>\n",
       "    </tr>\n",
       "    <tr>\n",
       "      <th>7</th>\n",
       "      <td>XpVt6Z1Gjjo</td>\n",
       "      <td>#1 trending!!!!!!!!!</td>\n",
       "      <td>3</td>\n",
       "      <td>0</td>\n",
       "      <td>0.0000</td>\n",
       "    </tr>\n",
       "    <tr>\n",
       "      <th>8</th>\n",
       "      <td>XpVt6Z1Gjjo</td>\n",
       "      <td>Happy one year vlogaversary</td>\n",
       "      <td>3</td>\n",
       "      <td>0</td>\n",
       "      <td>0.5719</td>\n",
       "    </tr>\n",
       "    <tr>\n",
       "      <th>9</th>\n",
       "      <td>XpVt6Z1Gjjo</td>\n",
       "      <td>You and your shit brother may have single hand...</td>\n",
       "      <td>0</td>\n",
       "      <td>0</td>\n",
       "      <td>-0.7717</td>\n",
       "    </tr>\n",
       "  </tbody>\n",
       "</table>\n",
       "</div>"
      ],
      "text/plain": [
       "      video_id                                       comment_text likes  \\\n",
       "0  XpVt6Z1Gjjo                  Logan Paul it's yo big day ‼️‼️‼️     4   \n",
       "1  XpVt6Z1Gjjo  I've been following you from the start of your...     3   \n",
       "2  XpVt6Z1Gjjo                 Say hi to Kong and maverick for me     3   \n",
       "3  XpVt6Z1Gjjo                                MY FAN . attendance     3   \n",
       "4  XpVt6Z1Gjjo                                         trending 😉     3   \n",
       "5  XpVt6Z1Gjjo                            #1 on trending AYYEEEEE     3   \n",
       "6  XpVt6Z1Gjjo                               The end though 😭👍🏻❤️     4   \n",
       "7  XpVt6Z1Gjjo                               #1 trending!!!!!!!!!     3   \n",
       "8  XpVt6Z1Gjjo                        Happy one year vlogaversary     3   \n",
       "9  XpVt6Z1Gjjo  You and your shit brother may have single hand...     0   \n",
       "\n",
       "  replies  polarity  \n",
       "0       0    0.0000  \n",
       "1       0    0.0000  \n",
       "2       0    0.0000  \n",
       "3       0    0.4648  \n",
       "4       0    0.0000  \n",
       "5       0    0.0000  \n",
       "6       0    0.0000  \n",
       "7       0    0.0000  \n",
       "8       0    0.5719  \n",
       "9       0   -0.7717  "
      ]
     },
     "execution_count": 16,
     "metadata": {},
     "output_type": "execute_result"
    }
   ],
   "source": [
    "comments.head(10)"
   ]
  },
  {
   "cell_type": "markdown",
   "id": "73b9be3a",
   "metadata": {},
   "source": [
    "WordCloud Analysis\n"
   ]
  },
  {
   "cell_type": "code",
   "execution_count": 17,
   "id": "df041160",
   "metadata": {},
   "outputs": [],
   "source": [
    "filter_pos = (comments[\"polarity\"] >= 0.8) & (comments[\"polarity\"] <= 1)"
   ]
  },
  {
   "cell_type": "code",
   "execution_count": 18,
   "id": "d00b413e",
   "metadata": {},
   "outputs": [],
   "source": [
    "comment_pos = comments[filter_pos]"
   ]
  },
  {
   "cell_type": "code",
   "execution_count": 19,
   "id": "246bfd28",
   "metadata": {},
   "outputs": [
    {
     "data": {
      "text/plain": [
       "(64310, 5)"
      ]
     },
     "execution_count": 19,
     "metadata": {},
     "output_type": "execute_result"
    }
   ],
   "source": [
    "comment_pos.shape"
   ]
  },
  {
   "cell_type": "code",
   "execution_count": 20,
   "id": "3e1dd272",
   "metadata": {},
   "outputs": [],
   "source": [
    "filter_neg = (comments[\"polarity\"] >= -1) & (comments[\"polarity\"] <= -0.8)"
   ]
  },
  {
   "cell_type": "code",
   "execution_count": 21,
   "id": "d8c12b55",
   "metadata": {},
   "outputs": [],
   "source": [
    "comment_neg = comments[filter_neg]"
   ]
  },
  {
   "cell_type": "code",
   "execution_count": 22,
   "id": "e2eaef24",
   "metadata": {},
   "outputs": [
    {
     "data": {
      "text/plain": [
       "(16148, 5)"
      ]
     },
     "execution_count": 22,
     "metadata": {},
     "output_type": "execute_result"
    }
   ],
   "source": [
    "comment_neg.shape"
   ]
  },
  {
   "cell_type": "code",
   "execution_count": 23,
   "id": "ef81191e",
   "metadata": {},
   "outputs": [],
   "source": [
    "from wordcloud import WordCloud,STOPWORDS"
   ]
  },
  {
   "cell_type": "code",
   "execution_count": 24,
   "id": "c40d9f1b",
   "metadata": {},
   "outputs": [],
   "source": [
    "pos_comment = \" \".join(comment_pos[\"comment_text\"])"
   ]
  },
  {
   "cell_type": "code",
   "execution_count": 25,
   "id": "3e7fe1bb",
   "metadata": {},
   "outputs": [],
   "source": [
    "wordcloud_pos = WordCloud(stopwords = set(STOPWORDS)).generate(pos_comment)"
   ]
  },
  {
   "cell_type": "code",
   "execution_count": 26,
   "id": "a10edc26",
   "metadata": {},
   "outputs": [
    {
     "data": {
      "text/plain": [
       "(-0.5, 399.5, 199.5, -0.5)"
      ]
     },
     "execution_count": 26,
     "metadata": {},
     "output_type": "execute_result"
    },
    {
     "data": {
      "image/png": "[encoded data removed]",
      "text/plain": [
       "<Figure size 640x480 with 1 Axes>"
      ]
     },
     "metadata": {},
     "output_type": "display_data"
    }
   ],
   "source": [
    "plt.imshow(wordcloud_pos)\n",
    "plt.axis(\"off\")"
   ]
  },
  {
   "cell_type": "code",
   "execution_count": 27,
   "id": "fcc040d3",
   "metadata": {},
   "outputs": [],
   "source": [
    "neg_comments = \" \".join(comment_neg[\"comment_text\"])"
   ]
  },
  {
   "cell_type": "code",
   "execution_count": 28,
   "id": "d8abd46f",
   "metadata": {},
   "outputs": [],
   "source": [
    "wordcloud_neg = WordCloud(stopwords = set(STOPWORDS)).generate(neg_comments)"
   ]
  },
  {
   "cell_type": "code",
   "execution_count": 29,
   "id": "170e020b",
   "metadata": {},
   "outputs": [
    {
     "data": {
      "text/plain": [
       "(-0.5, 399.5, 199.5, -0.5)"
      ]
     },
     "execution_count": 29,
     "metadata": {},
     "output_type": "execute_result"
    },
    {
     "data": {
      "image/png": "[encoded data removed]",
      "text/plain": [
       "<Figure size 640x480 with 1 Axes>"
      ]
     },
     "metadata": {},
     "output_type": "display_data"
    }
   ],
   "source": [
    "plt.imshow(wordcloud_neg)\n",
    "plt.axis(\"off\")"
   ]
  },
  {
   "cell_type": "markdown",
   "id": "7a81d7b3",
   "metadata": {},
   "source": [
    "4.Emoji Analysis"
   ]
  },
  {
   "cell_type": "code",
   "execution_count": 30,
   "id": "6b138d84",
   "metadata": {},
   "outputs": [
    {
     "name": "stdout",
     "output_type": "stream",
     "text": [
      "Requirement already satisfied: emoji==2.14.1 in c:\\users\\asus\\anaconda3\\lib\\site-packages (2.14.1)\n",
      "Note: you may need to restart the kernel to use updated packages.\n"
     ]
    }
   ],
   "source": [
    "pip install emoji==2.14.1"
   ]
  },
  {
   "cell_type": "code",
   "execution_count": 32,
   "id": "57503a0d",
   "metadata": {},
   "outputs": [],
   "source": [
    "import emoji"
   ]
  },
  {
   "cell_type": "code",
   "execution_count": 33,
   "id": "464cfd1e",
   "metadata": {},
   "outputs": [
    {
     "data": {
      "text/html": [
       "<div>\n",
       "<style scoped>\n",
       "    .dataframe tbody tr th:only-of-type {\n",
       "        vertical-align: middle;\n",
       "    }\n",
       "\n",
       "    .dataframe tbody tr th {\n",
       "        vertical-align: top;\n",
       "    }\n",
       "\n",
       "    .dataframe thead th {\n",
       "        text-align: right;\n",
       "    }\n",
       "</style>\n",
       "<table border=\"1\" class=\"dataframe\">\n",
       "  <thead>\n",
       "    <tr style=\"text-align: right;\">\n",
       "      <th></th>\n",
       "      <th>video_id</th>\n",
       "      <th>comment_text</th>\n",
       "      <th>likes</th>\n",
       "      <th>replies</th>\n",
       "      <th>polarity</th>\n",
       "    </tr>\n",
       "  </thead>\n",
       "  <tbody>\n",
       "    <tr>\n",
       "      <th>0</th>\n",
       "      <td>XpVt6Z1Gjjo</td>\n",
       "      <td>Logan Paul it's yo big day ‼️‼️‼️</td>\n",
       "      <td>4</td>\n",
       "      <td>0</td>\n",
       "      <td>0.0000</td>\n",
       "    </tr>\n",
       "    <tr>\n",
       "      <th>1</th>\n",
       "      <td>XpVt6Z1Gjjo</td>\n",
       "      <td>I've been following you from the start of your...</td>\n",
       "      <td>3</td>\n",
       "      <td>0</td>\n",
       "      <td>0.0000</td>\n",
       "    </tr>\n",
       "    <tr>\n",
       "      <th>2</th>\n",
       "      <td>XpVt6Z1Gjjo</td>\n",
       "      <td>Say hi to Kong and maverick for me</td>\n",
       "      <td>3</td>\n",
       "      <td>0</td>\n",
       "      <td>0.0000</td>\n",
       "    </tr>\n",
       "    <tr>\n",
       "      <th>3</th>\n",
       "      <td>XpVt6Z1Gjjo</td>\n",
       "      <td>MY FAN . attendance</td>\n",
       "      <td>3</td>\n",
       "      <td>0</td>\n",
       "      <td>0.4648</td>\n",
       "    </tr>\n",
       "    <tr>\n",
       "      <th>4</th>\n",
       "      <td>XpVt6Z1Gjjo</td>\n",
       "      <td>trending 😉</td>\n",
       "      <td>3</td>\n",
       "      <td>0</td>\n",
       "      <td>0.0000</td>\n",
       "    </tr>\n",
       "    <tr>\n",
       "      <th>5</th>\n",
       "      <td>XpVt6Z1Gjjo</td>\n",
       "      <td>#1 on trending AYYEEEEE</td>\n",
       "      <td>3</td>\n",
       "      <td>0</td>\n",
       "      <td>0.0000</td>\n",
       "    </tr>\n",
       "    <tr>\n",
       "      <th>6</th>\n",
       "      <td>XpVt6Z1Gjjo</td>\n",
       "      <td>The end though 😭👍🏻❤️</td>\n",
       "      <td>4</td>\n",
       "      <td>0</td>\n",
       "      <td>0.0000</td>\n",
       "    </tr>\n",
       "    <tr>\n",
       "      <th>7</th>\n",
       "      <td>XpVt6Z1Gjjo</td>\n",
       "      <td>#1 trending!!!!!!!!!</td>\n",
       "      <td>3</td>\n",
       "      <td>0</td>\n",
       "      <td>0.0000</td>\n",
       "    </tr>\n",
       "    <tr>\n",
       "      <th>8</th>\n",
       "      <td>XpVt6Z1Gjjo</td>\n",
       "      <td>Happy one year vlogaversary</td>\n",
       "      <td>3</td>\n",
       "      <td>0</td>\n",
       "      <td>0.5719</td>\n",
       "    </tr>\n",
       "    <tr>\n",
       "      <th>9</th>\n",
       "      <td>XpVt6Z1Gjjo</td>\n",
       "      <td>You and your shit brother may have single hand...</td>\n",
       "      <td>0</td>\n",
       "      <td>0</td>\n",
       "      <td>-0.7717</td>\n",
       "    </tr>\n",
       "  </tbody>\n",
       "</table>\n",
       "</div>"
      ],
      "text/plain": [
       "      video_id                                       comment_text likes  \\\n",
       "0  XpVt6Z1Gjjo                  Logan Paul it's yo big day ‼️‼️‼️     4   \n",
       "1  XpVt6Z1Gjjo  I've been following you from the start of your...     3   \n",
       "2  XpVt6Z1Gjjo                 Say hi to Kong and maverick for me     3   \n",
       "3  XpVt6Z1Gjjo                                MY FAN . attendance     3   \n",
       "4  XpVt6Z1Gjjo                                         trending 😉     3   \n",
       "5  XpVt6Z1Gjjo                            #1 on trending AYYEEEEE     3   \n",
       "6  XpVt6Z1Gjjo                               The end though 😭👍🏻❤️     4   \n",
       "7  XpVt6Z1Gjjo                               #1 trending!!!!!!!!!     3   \n",
       "8  XpVt6Z1Gjjo                        Happy one year vlogaversary     3   \n",
       "9  XpVt6Z1Gjjo  You and your shit brother may have single hand...     0   \n",
       "\n",
       "  replies  polarity  \n",
       "0       0    0.0000  \n",
       "1       0    0.0000  \n",
       "2       0    0.0000  \n",
       "3       0    0.4648  \n",
       "4       0    0.0000  \n",
       "5       0    0.0000  \n",
       "6       0    0.0000  \n",
       "7       0    0.0000  \n",
       "8       0    0.5719  \n",
       "9       0   -0.7717  "
      ]
     },
     "execution_count": 33,
     "metadata": {},
     "output_type": "execute_result"
    }
   ],
   "source": [
    "comments.head(10)"
   ]
  },
  {
   "cell_type": "code",
   "execution_count": 37,
   "id": "d7f70eb6",
   "metadata": {},
   "outputs": [
    {
     "data": {
      "text/plain": [
       "[{'match_start': 15, 'match_end': 16, 'emoji': '😭'},\n",
       " {'match_start': 16, 'match_end': 18, 'emoji': '👍🏻'},\n",
       " {'match_start': 18, 'match_end': 20, 'emoji': '❤️'}]"
      ]
     },
     "execution_count": 37,
     "metadata": {},
     "output_type": "execute_result"
    }
   ],
   "source": [
    "emoji_info = emoji.emoji_list(\"The end though 😭👍🏻❤️\")\n",
    "emoji_info"
   ]
  },
  {
   "cell_type": "code",
   "execution_count": 40,
   "id": "babdbdb5",
   "metadata": {},
   "outputs": [
    {
     "name": "stdout",
     "output_type": "stream",
     "text": [
      "😭\n",
      "👍🏻\n",
      "❤️\n"
     ]
    }
   ],
   "source": [
    "for item in emoji_info:\n",
    "    print(item[\"emoji\"])"
   ]
  },
  {
   "cell_type": "code",
   "execution_count": 53,
   "id": "df234248",
   "metadata": {},
   "outputs": [],
   "source": [
    "all_emoji = []\n",
    "\n",
    "for comment in comments[\"comment_text\"]:\n",
    "    emoji_info = emoji.emoji_list(comment)\n",
    "    for item in emoji_info:\n",
    "        emoji_found = item[\"emoji\"]\n",
    "        all_emoji.append(emoji_found)"
   ]
  },
  {
   "cell_type": "code",
   "execution_count": 54,
   "id": "b4d51852",
   "metadata": {},
   "outputs": [
    {
     "data": {
      "text/plain": [
       "['‼️',\n",
       " '‼️',\n",
       " '‼️',\n",
       " '😉',\n",
       " '😭',\n",
       " '👍🏻',\n",
       " '❤️',\n",
       " '😍',\n",
       " '💋',\n",
       " '💙',\n",
       " '👍',\n",
       " '👈',\n",
       " '😂',\n",
       " '🔥',\n",
       " '😂',\n",
       " '😂',\n",
       " '😂',\n",
       " '😂',\n",
       " '👻',\n",
       " '❤️',\n",
       " '😂',\n",
       " '❤️',\n",
       " '💎',\n",
       " '😆',\n",
       " '😆',\n",
       " '😆',\n",
       " '😆',\n",
       " '😆',\n",
       " '😆',\n",
       " '😁',\n",
       " '😁',\n",
       " '😁',\n",
       " '😁',\n",
       " '😁',\n",
       " '😁',\n",
       " '😁',\n",
       " '😂',\n",
       " '😂',\n",
       " '😂',\n",
       " '😂',\n",
       " '😭',\n",
       " '😒',\n",
       " '👏',\n",
       " '👏',\n",
       " '👏',\n",
       " '👏',\n",
       " '👏',\n",
       " '👏',\n",
       " '👏',\n",
       " '👏',\n",
       " '👏',\n",
       " '👏',\n",
       " '😊',\n",
       " '❤️',\n",
       " '👈',\n",
       " '😂',\n",
       " '😂',\n",
       " '👌',\n",
       " '👌',\n",
       " '🤔',\n",
       " '👈',\n",
       " '😂',\n",
       " '😂',\n",
       " '😁',\n",
       " '💔',\n",
       " '😂',\n",
       " '👎',\n",
       " '👎',\n",
       " '👎',\n",
       " '👎',\n",
       " '👎',\n",
       " '🍎',\n",
       " '😤',\n",
       " '😂',\n",
       " '😂',\n",
       " '😂',\n",
       " '😂',\n",
       " '👈',\n",
       " '😭',\n",
       " '😭',\n",
       " '😭',\n",
       " '😢',\n",
       " '😢',\n",
       " '😢',\n",
       " '😂',\n",
       " '😂',\n",
       " '😂',\n",
       " '😂',\n",
       " '😂',\n",
       " '😂',\n",
       " '😂',\n",
       " '😂',\n",
       " '😂',\n",
       " '😂',\n",
       " '😂',\n",
       " '😂',\n",
       " '😂',\n",
       " '😂',\n",
       " '😂',\n",
       " '😂',\n",
       " '😂',\n",
       " '😂',\n",
       " '😂',\n",
       " '😂',\n",
       " '😂',\n",
       " '😂',\n",
       " '😂',\n",
       " '😂',\n",
       " '😂',\n",
       " '😂',\n",
       " '😂',\n",
       " '😂',\n",
       " '😂',\n",
       " '😂',\n",
       " '😂',\n",
       " '😂',\n",
       " '😂',\n",
       " '😂',\n",
       " '😂',\n",
       " '😂',\n",
       " '😂',\n",
       " '😂',\n",
       " '😂',\n",
       " '😂',\n",
       " '😂',\n",
       " '😂',\n",
       " '😂',\n",
       " '😂',\n",
       " '😂',\n",
       " '😂',\n",
       " '😂',\n",
       " '😂',\n",
       " '😂',\n",
       " '😂',\n",
       " '😂',\n",
       " '😂',\n",
       " '😂',\n",
       " '😂',\n",
       " '😂',\n",
       " '😂',\n",
       " '😂',\n",
       " '😂',\n",
       " '😂',\n",
       " '😂',\n",
       " '😂',\n",
       " '😂',\n",
       " '😂',\n",
       " '😂',\n",
       " '😂',\n",
       " '😂',\n",
       " '😂',\n",
       " '😂',\n",
       " '😂',\n",
       " '😂',\n",
       " '😂',\n",
       " '💋',\n",
       " '💋',\n",
       " '👫',\n",
       " '💘',\n",
       " '😻',\n",
       " '💋',\n",
       " '💋',\n",
       " '💖',\n",
       " '💖',\n",
       " '💖',\n",
       " '💖',\n",
       " '💖',\n",
       " '💖',\n",
       " '💖',\n",
       " '💖',\n",
       " '💖',\n",
       " '💖',\n",
       " '💖',\n",
       " '💖',\n",
       " '💖',\n",
       " '💖',\n",
       " '🌟',\n",
       " '🌟',\n",
       " '😮',\n",
       " '😮',\n",
       " '😮',\n",
       " '😮',\n",
       " '😮',\n",
       " '😮',\n",
       " '😮',\n",
       " '😮',\n",
       " '😮',\n",
       " '👈',\n",
       " '😊',\n",
       " '👇🏻',\n",
       " '😳',\n",
       " '😳',\n",
       " '❤️',\n",
       " '👈',\n",
       " '😠',\n",
       " '😆',\n",
       " '😂',\n",
       " '😆',\n",
       " '😂',\n",
       " '😆',\n",
       " '😊',\n",
       " '😠',\n",
       " '😴',\n",
       " '😴',\n",
       " '😴',\n",
       " '😴',\n",
       " '👈',\n",
       " '🤔',\n",
       " '😂',\n",
       " '😝',\n",
       " '😂',\n",
       " '😂',\n",
       " '😂',\n",
       " '👍',\n",
       " '😂',\n",
       " '™',\n",
       " '👈',\n",
       " '☺️',\n",
       " '😔',\n",
       " '😩',\n",
       " '😩',\n",
       " '😡',\n",
       " '😍',\n",
       " '😍',\n",
       " '😍',\n",
       " '😍',\n",
       " '😍',\n",
       " '😍',\n",
       " '😂',\n",
       " '🙏🏻',\n",
       " '😄',\n",
       " '☺️',\n",
       " '😬',\n",
       " '😊',\n",
       " '👍🏻',\n",
       " '😊',\n",
       " '☹️',\n",
       " '🤷',\n",
       " '🤣',\n",
       " '🤣',\n",
       " '🤣',\n",
       " '🤣',\n",
       " '😃',\n",
       " '😃',\n",
       " '😃',\n",
       " '😃',\n",
       " '👌🏽',\n",
       " '🍏',\n",
       " '🍎',\n",
       " '😓',\n",
       " '😂',\n",
       " '😂',\n",
       " '🤣',\n",
       " '🤣',\n",
       " '❤',\n",
       " '❤',\n",
       " '😂',\n",
       " '🤦🏽\\u200d♀️',\n",
       " '😞',\n",
       " '😂',\n",
       " '🙏🏼',\n",
       " '😂',\n",
       " '😂',\n",
       " '😂',\n",
       " '✌️',\n",
       " '😂',\n",
       " '😂',\n",
       " '😂',\n",
       " '😂',\n",
       " '😂',\n",
       " '😂',\n",
       " '😂',\n",
       " '😂',\n",
       " '😂',\n",
       " '😂',\n",
       " '😊',\n",
       " '😂',\n",
       " '😂',\n",
       " '😂',\n",
       " '😂',\n",
       " '😂',\n",
       " '😂',\n",
       " '😔',\n",
       " '😂',\n",
       " '😂',\n",
       " '😂',\n",
       " '😂',\n",
       " '😭',\n",
       " '😭',\n",
       " '😭',\n",
       " '😭',\n",
       " '💀',\n",
       " '😂',\n",
       " '😂',\n",
       " '👀',\n",
       " '😂',\n",
       " '😂',\n",
       " '😂',\n",
       " '😱',\n",
       " '❤️',\n",
       " '😂',\n",
       " '😂',\n",
       " '😂',\n",
       " '😂',\n",
       " '😂',\n",
       " '😂',\n",
       " '😂',\n",
       " '😂',\n",
       " '😂',\n",
       " '❤',\n",
       " '❤',\n",
       " '👑',\n",
       " '👑',\n",
       " '👑',\n",
       " '😂',\n",
       " '😂',\n",
       " '😍',\n",
       " '😍',\n",
       " '😍',\n",
       " '🌮',\n",
       " '🌮',\n",
       " '🌮',\n",
       " '🌮',\n",
       " '🌮',\n",
       " '😂',\n",
       " '😀',\n",
       " '😂',\n",
       " '😂',\n",
       " '😂',\n",
       " '😂',\n",
       " '😂',\n",
       " '😂',\n",
       " '😂',\n",
       " '💆🏿\\u200d♂️',\n",
       " '🔥',\n",
       " '👏',\n",
       " '👏',\n",
       " '👏',\n",
       " '😊',\n",
       " '😅',\n",
       " '😆',\n",
       " '😆',\n",
       " '😆',\n",
       " '😆',\n",
       " '😂',\n",
       " '😂',\n",
       " '😂',\n",
       " '😂',\n",
       " '😂',\n",
       " '😂',\n",
       " '🌟',\n",
       " '🌟',\n",
       " '😮',\n",
       " '😮',\n",
       " '😮',\n",
       " '😮',\n",
       " '😮',\n",
       " '😮',\n",
       " '😮',\n",
       " '😮',\n",
       " '😮',\n",
       " '😂',\n",
       " '😂',\n",
       " '😂',\n",
       " '😂',\n",
       " '❤️',\n",
       " '❤️',\n",
       " '❤️',\n",
       " '🐂',\n",
       " '💩',\n",
       " '💕',\n",
       " '😉',\n",
       " '😍',\n",
       " '😍',\n",
       " '😍',\n",
       " '😍',\n",
       " '❤',\n",
       " '❤',\n",
       " '❤',\n",
       " '❤',\n",
       " '❤',\n",
       " '❤',\n",
       " '❤',\n",
       " '❤',\n",
       " '❤',\n",
       " '❤',\n",
       " '❤',\n",
       " '❤',\n",
       " '❤',\n",
       " '❤',\n",
       " '❤',\n",
       " '❤',\n",
       " '❤',\n",
       " '💓',\n",
       " '💓',\n",
       " '💓',\n",
       " '💓',\n",
       " '💓',\n",
       " '💓',\n",
       " '💓',\n",
       " '❤',\n",
       " '❤',\n",
       " '❤',\n",
       " '❤',\n",
       " '❤',\n",
       " '❤',\n",
       " '❤',\n",
       " '❤',\n",
       " '❤',\n",
       " '💗',\n",
       " '💗',\n",
       " '😢',\n",
       " '💝',\n",
       " '💝',\n",
       " '❤',\n",
       " '💙',\n",
       " '😭',\n",
       " '❤️',\n",
       " '🙏',\n",
       " '❤',\n",
       " '😍',\n",
       " '😍',\n",
       " '😍',\n",
       " '😍',\n",
       " '😍',\n",
       " '💜',\n",
       " '💜',\n",
       " '💜',\n",
       " '😎',\n",
       " '😂',\n",
       " '❤',\n",
       " '😊',\n",
       " '😒',\n",
       " '😱',\n",
       " '👏',\n",
       " '👏',\n",
       " '👏',\n",
       " '😎',\n",
       " '😱',\n",
       " '😱',\n",
       " '😱',\n",
       " '😱',\n",
       " '🎉',\n",
       " '🤔',\n",
       " '😂',\n",
       " '😂',\n",
       " '😂',\n",
       " '😂',\n",
       " '😋',\n",
       " '😋',\n",
       " '😍',\n",
       " '😍',\n",
       " '😍',\n",
       " '😘',\n",
       " '😱',\n",
       " '😳',\n",
       " '😘',\n",
       " '😘',\n",
       " '😍',\n",
       " '😍',\n",
       " '😐',\n",
       " '😉',\n",
       " '😍',\n",
       " '😊',\n",
       " '😕',\n",
       " '😄',\n",
       " '😞',\n",
       " '🔥',\n",
       " '🔥',\n",
       " '🔥',\n",
       " '🔥',\n",
       " '🔥',\n",
       " '🤘🏻',\n",
       " '😱',\n",
       " '😱',\n",
       " '😂',\n",
       " '😊',\n",
       " '😭',\n",
       " '😂',\n",
       " '😂',\n",
       " '😍',\n",
       " '👍',\n",
       " '😆',\n",
       " '🙌',\n",
       " '🙌',\n",
       " '🙌',\n",
       " '🌟',\n",
       " '🌟',\n",
       " '😮',\n",
       " '😮',\n",
       " '😮',\n",
       " '😮',\n",
       " '😮',\n",
       " '😮',\n",
       " '😮',\n",
       " '😮',\n",
       " '😮',\n",
       " '👍🏼',\n",
       " '💕',\n",
       " '😀',\n",
       " '😂',\n",
       " '😂',\n",
       " '😂',\n",
       " '😂',\n",
       " '😂',\n",
       " '😂',\n",
       " '😂',\n",
       " '😊',\n",
       " '😂',\n",
       " '😂',\n",
       " '😂',\n",
       " '😂',\n",
       " '😏',\n",
       " '😏',\n",
       " '🇪🇸',\n",
       " '😊',\n",
       " '😛',\n",
       " '🌳',\n",
       " '🌽',\n",
       " '🎃',\n",
       " '🚣',\n",
       " '🚂',\n",
       " '😂',\n",
       " '😂',\n",
       " '😊',\n",
       " '😕',\n",
       " '😋',\n",
       " '🤣',\n",
       " '😅',\n",
       " '😢',\n",
       " '💔',\n",
       " '😊',\n",
       " '😂',\n",
       " '😂',\n",
       " '😍',\n",
       " '💋',\n",
       " '💋',\n",
       " '👫',\n",
       " '💘',\n",
       " '😻',\n",
       " '💋',\n",
       " '💋',\n",
       " '😂',\n",
       " '👑',\n",
       " '🔥',\n",
       " '🔥',\n",
       " '🔥',\n",
       " '🔥',\n",
       " '🔥',\n",
       " '🔥',\n",
       " '🔥',\n",
       " '🔥',\n",
       " '🔥',\n",
       " '🔥',\n",
       " '😂',\n",
       " '😐',\n",
       " '😑',\n",
       " '😩',\n",
       " '👌🏻',\n",
       " '🔥',\n",
       " '💖',\n",
       " '👏🏻',\n",
       " '👀',\n",
       " '✨',\n",
       " '👅',\n",
       " '💦',\n",
       " '💕',\n",
       " '🔥',\n",
       " '🔥',\n",
       " '🔥',\n",
       " '❤️',\n",
       " '❤',\n",
       " '❤',\n",
       " '❤',\n",
       " '❤',\n",
       " '❤',\n",
       " '❤',\n",
       " '👌',\n",
       " '😍',\n",
       " '😍',\n",
       " '😍',\n",
       " '😞',\n",
       " '🌴',\n",
       " '💜',\n",
       " '💜',\n",
       " '💜',\n",
       " '💜',\n",
       " '😍',\n",
       " '😍',\n",
       " '😍',\n",
       " '😍',\n",
       " '😍',\n",
       " '❤️',\n",
       " '❤️',\n",
       " '❤️',\n",
       " '❤️',\n",
       " '❤️',\n",
       " '😞',\n",
       " '💕',\n",
       " '😫',\n",
       " '😥',\n",
       " '👍',\n",
       " '💪',\n",
       " '😂',\n",
       " '😂',\n",
       " '😂',\n",
       " '😂',\n",
       " '😂',\n",
       " '😂',\n",
       " '😊',\n",
       " '😊',\n",
       " '😊',\n",
       " '😊',\n",
       " '😂',\n",
       " '😊',\n",
       " '😂',\n",
       " '😂',\n",
       " '😂',\n",
       " '😂',\n",
       " '😂',\n",
       " '😂',\n",
       " '😂',\n",
       " '😂',\n",
       " '😂',\n",
       " '😂',\n",
       " '🙏🏻',\n",
       " '❤️',\n",
       " '🙏',\n",
       " '🙏',\n",
       " '🙏',\n",
       " '😓',\n",
       " '❤',\n",
       " '🇨🇺',\n",
       " '😂',\n",
       " '🙂',\n",
       " '🙂',\n",
       " '💋',\n",
       " '💋',\n",
       " '👫',\n",
       " '💘',\n",
       " '😻',\n",
       " '💋',\n",
       " '💋',\n",
       " '😊',\n",
       " '💖',\n",
       " '💖',\n",
       " '💖',\n",
       " '❤️',\n",
       " '😎',\n",
       " '😎',\n",
       " '✌',\n",
       " '😀',\n",
       " '😀',\n",
       " '😀',\n",
       " '😀',\n",
       " '😊',\n",
       " '😊',\n",
       " '❤️',\n",
       " '❤️',\n",
       " '❤️',\n",
       " '❤',\n",
       " '😊',\n",
       " '😄',\n",
       " '🙈',\n",
       " '😻',\n",
       " '😂',\n",
       " '😂',\n",
       " '😂',\n",
       " '🙌🏻',\n",
       " '🤘',\n",
       " '❤',\n",
       " '😂',\n",
       " '❤️',\n",
       " '🤣',\n",
       " '🤣',\n",
       " '🤣',\n",
       " '🤣',\n",
       " '🤣',\n",
       " '🤣',\n",
       " '😂',\n",
       " '😂',\n",
       " '😂',\n",
       " '😂',\n",
       " '😂',\n",
       " '😂',\n",
       " '😊',\n",
       " '😊',\n",
       " '😊',\n",
       " '😊',\n",
       " '😲',\n",
       " '😍',\n",
       " '❤️',\n",
       " '😘',\n",
       " '😘',\n",
       " '😘',\n",
       " '😘',\n",
       " '😘',\n",
       " '❤️',\n",
       " '❤️',\n",
       " '😂',\n",
       " '❤',\n",
       " '❤',\n",
       " '❤',\n",
       " '❤',\n",
       " '😍',\n",
       " '😍',\n",
       " '😍',\n",
       " '😍',\n",
       " '😍',\n",
       " '😍',\n",
       " '😍',\n",
       " '😍',\n",
       " '😍',\n",
       " '💕',\n",
       " '🤢',\n",
       " '🤢',\n",
       " '🤢',\n",
       " '👍',\n",
       " '👍',\n",
       " '👍',\n",
       " '👍',\n",
       " '👍',\n",
       " '👍',\n",
       " '👍',\n",
       " '👍',\n",
       " '👍',\n",
       " '👍',\n",
       " '👍',\n",
       " '🎧',\n",
       " '🎶',\n",
       " '🎵',\n",
       " '🎼',\n",
       " '🎤',\n",
       " '✌',\n",
       " '💪',\n",
       " '👏',\n",
       " '👏',\n",
       " '👏',\n",
       " '👏',\n",
       " '👏',\n",
       " '👏',\n",
       " '👌',\n",
       " '♨',\n",
       " '💯',\n",
       " '🔥',\n",
       " '🔥',\n",
       " '🔥',\n",
       " '🔥',\n",
       " '🔥',\n",
       " '🔥',\n",
       " '🔥',\n",
       " '🔥',\n",
       " '🔥',\n",
       " '👌',\n",
       " '👍',\n",
       " '💪',\n",
       " '👊',\n",
       " '✌',\n",
       " '😊',\n",
       " '😍',\n",
       " '😎',\n",
       " '😁',\n",
       " '💏',\n",
       " '💖',\n",
       " '😂',\n",
       " '😂',\n",
       " '😊',\n",
       " '🙃',\n",
       " '😂',\n",
       " '😂',\n",
       " '😂',\n",
       " '😂',\n",
       " '😂',\n",
       " '🤣',\n",
       " '😂',\n",
       " '😂',\n",
       " '😂',\n",
       " '😅',\n",
       " '😅',\n",
       " '😂',\n",
       " '🐸',\n",
       " '😂',\n",
       " '😂',\n",
       " '🏈',\n",
       " '💁🏼',\n",
       " '😂',\n",
       " '😊',\n",
       " '🤡',\n",
       " '🙏',\n",
       " '🙏',\n",
       " '🙏',\n",
       " '👊🏿',\n",
       " '🙇🏽',\n",
       " '👋',\n",
       " '😅',\n",
       " '😅',\n",
       " '😅',\n",
       " '😅',\n",
       " '😂',\n",
       " '😂',\n",
       " '🤔',\n",
       " '😊',\n",
       " '😍',\n",
       " '😎',\n",
       " '💄',\n",
       " '🐐',\n",
       " '😊',\n",
       " '🤡',\n",
       " '💖',\n",
       " '💖',\n",
       " '💖',\n",
       " '❤️',\n",
       " '😂',\n",
       " '😂',\n",
       " '😂',\n",
       " '😻',\n",
       " '😻',\n",
       " '😻',\n",
       " '😄',\n",
       " '😍',\n",
       " '😍',\n",
       " '😍',\n",
       " '😍',\n",
       " '😍',\n",
       " '🤣',\n",
       " '😂',\n",
       " '😇',\n",
       " '👌🏻',\n",
       " '😂',\n",
       " '☺️',\n",
       " '😀',\n",
       " '😂',\n",
       " '❤️',\n",
       " '😂',\n",
       " '😂',\n",
       " '😂',\n",
       " '😂',\n",
       " '😂',\n",
       " '😂',\n",
       " '😂',\n",
       " '😂',\n",
       " '😳',\n",
       " '❤️',\n",
       " '🐊',\n",
       " '👀',\n",
       " '❤️',\n",
       " '🌎',\n",
       " '😂',\n",
       " '❤️',\n",
       " '❤️',\n",
       " '😍',\n",
       " '😊',\n",
       " '😊',\n",
       " '😎',\n",
       " '🤘',\n",
       " '🖤',\n",
       " '👌',\n",
       " '👌',\n",
       " '😅',\n",
       " '😂',\n",
       " '😂',\n",
       " '😊',\n",
       " '😊',\n",
       " '👀',\n",
       " '👌🏽',\n",
       " '❤️',\n",
       " '😂',\n",
       " '😊',\n",
       " '🤣',\n",
       " '😂',\n",
       " '😂',\n",
       " '👍',\n",
       " '😍',\n",
       " '😍',\n",
       " '😕',\n",
       " '😂',\n",
       " '😏',\n",
       " '❤',\n",
       " '❤',\n",
       " '🔥',\n",
       " '🔥',\n",
       " '❤',\n",
       " '😍',\n",
       " '😍',\n",
       " '😍',\n",
       " '😍',\n",
       " '😍',\n",
       " '😊',\n",
       " '🤗',\n",
       " '😊',\n",
       " '🙄',\n",
       " '😍',\n",
       " '😨',\n",
       " '😍',\n",
       " '😍',\n",
       " '😍',\n",
       " '😍',\n",
       " '😎',\n",
       " '😃',\n",
       " '😂',\n",
       " '😍',\n",
       " '😏',\n",
       " '😌',\n",
       " '😂',\n",
       " '😎',\n",
       " '🤑',\n",
       " '😂',\n",
       " '😍',\n",
       " '😍',\n",
       " '😍',\n",
       " '👍',\n",
       " '👍',\n",
       " '😗',\n",
       " '👍🏼',\n",
       " '👍🏼',\n",
       " '😂',\n",
       " '❤',\n",
       " '😻',\n",
       " '😻',\n",
       " '😓',\n",
       " '😲',\n",
       " '😢',\n",
       " '😊',\n",
       " '😊',\n",
       " '😂',\n",
       " '😍',\n",
       " '😍',\n",
       " '😊',\n",
       " '😬',\n",
       " '😍',\n",
       " '💗',\n",
       " '💖',\n",
       " '💖',\n",
       " '😂',\n",
       " '😂',\n",
       " '😂',\n",
       " '💖',\n",
       " '😆',\n",
       " '😆',\n",
       " '😆',\n",
       " '😘',\n",
       " '😘',\n",
       " '😘',\n",
       " '❤️',\n",
       " '❤️',\n",
       " '🔥',\n",
       " '😂',\n",
       " '😂',\n",
       " '😂',\n",
       " '😂',\n",
       " '😂',\n",
       " '😊',\n",
       " '😂',\n",
       " '😂',\n",
       " '📱',\n",
       " '📱',\n",
       " '📱',\n",
       " '📱',\n",
       " '📱',\n",
       " '📱',\n",
       " '📱',\n",
       " '📱',\n",
       " '📱',\n",
       " '📱',\n",
       " '📱',\n",
       " '😇',\n",
       " '😇',\n",
       " '😇',\n",
       " '😳',\n",
       " '😕',\n",
       " '😕',\n",
       " '😕',\n",
       " '😕',\n",
       " '😊',\n",
       " '🌀',\n",
       " '🌀',\n",
       " '😂',\n",
       " '👍',\n",
       " '😂',\n",
       " '😂',\n",
       " '😂',\n",
       " '👍',\n",
       " '🤡',\n",
       " '😂',\n",
       " '😂',\n",
       " '😂',\n",
       " '❤️',\n",
       " '😍',\n",
       " '😍',\n",
       " '☺️',\n",
       " '❤️',\n",
       " '🙌🏻',\n",
       " '👏🏻',\n",
       " '😍',\n",
       " '😳',\n",
       " '😍',\n",
       " '😍',\n",
       " '😍',\n",
       " '😍',\n",
       " '😍',\n",
       " ...]"
      ]
     },
     "execution_count": 54,
     "metadata": {},
     "output_type": "execute_result"
    }
   ],
   "source": [
    "all_emoji"
   ]
  },
  {
   "cell_type": "code",
   "execution_count": 55,
   "id": "a09e62f5",
   "metadata": {},
   "outputs": [
    {
     "data": {
      "text/plain": [
       "288867"
      ]
     },
     "execution_count": 55,
     "metadata": {},
     "output_type": "execute_result"
    }
   ],
   "source": [
    "len(all_emoji)"
   ]
  },
  {
   "cell_type": "code",
   "execution_count": 56,
   "id": "cc760cea",
   "metadata": {},
   "outputs": [],
   "source": [
    "from collections import Counter"
   ]
  },
  {
   "cell_type": "code",
   "execution_count": 57,
   "id": "2e66a634",
   "metadata": {},
   "outputs": [],
   "source": [
    "emoji_count = Counter(all_emoji).most_common(10)"
   ]
  },
  {
   "cell_type": "code",
   "execution_count": 58,
   "id": "df12c23b",
   "metadata": {},
   "outputs": [
    {
     "data": {
      "text/plain": [
       "[('😂', 36987),\n",
       " ('😍', 33453),\n",
       " ('❤️', 16911),\n",
       " ('❤', 14167),\n",
       " ('🔥', 8694),\n",
       " ('😭', 8398),\n",
       " ('😘', 5545),\n",
       " ('💖', 5359),\n",
       " ('💕', 5147),\n",
       " ('👍', 4251)]"
      ]
     },
     "execution_count": 58,
     "metadata": {},
     "output_type": "execute_result"
    }
   ],
   "source": [
    "emoji_count"
   ]
  },
  {
   "cell_type": "code",
   "execution_count": 62,
   "id": "020100cc",
   "metadata": {},
   "outputs": [
    {
     "data": {
      "text/plain": [
       "['😂', '😍', '❤️', '❤', '🔥', '😭', '😘', '💖', '💕', '👍']"
      ]
     },
     "execution_count": 62,
     "metadata": {},
     "output_type": "execute_result"
    }
   ],
   "source": [
    "emoji_list = []\n",
    "for emoji,count in emoji_count:\n",
    "    emoji_list.append(emoji)\n",
    "emoji_list"
   ]
  },
  {
   "cell_type": "code",
   "execution_count": 66,
   "id": "74c0c93a",
   "metadata": {},
   "outputs": [],
   "source": [
    "emojis = [emoji for emoji,count in emoji_count]"
   ]
  },
  {
   "cell_type": "code",
   "execution_count": 67,
   "id": "dcd55421",
   "metadata": {},
   "outputs": [],
   "source": [
    "count = [count for emoji,count in emoji_count]"
   ]
  },
  {
   "cell_type": "code",
   "execution_count": 69,
   "id": "203f1dd6",
   "metadata": {},
   "outputs": [
    {
     "name": "stdout",
     "output_type": "stream",
     "text": [
      "Requirement already satisfied: plotly in c:\\users\\asus\\anaconda3\\lib\\site-packages (5.24.1)\n",
      "Requirement already satisfied: tenacity>=6.2.0 in c:\\users\\asus\\anaconda3\\lib\\site-packages (from plotly) (8.2.3)\n",
      "Requirement already satisfied: packaging in c:\\users\\asus\\anaconda3\\lib\\site-packages (from plotly) (24.1)\n",
      "Note: you may need to restart the kernel to use updated packages.\n"
     ]
    }
   ],
   "source": [
    "pip install plotly"
   ]
  },
  {
   "cell_type": "code",
   "execution_count": 79,
   "id": "f11a7289",
   "metadata": {},
   "outputs": [],
   "source": [
    "import plotly.graph_objs as go\n",
    "from plotly.offline import iplot"
   ]
  },
  {
   "cell_type": "code",
   "execution_count": 80,
   "id": "c38f7611",
   "metadata": {},
   "outputs": [
    {
     "data": {
      "application/vnd.plotly.v1+json": {
       "config": {
        "linkText": "Export to plot.ly",
        "plotlyServerURL": "https://plot.ly",
        "showLink": false
       },
       "data": [
        {
         "type": "bar",
         "x": [
          "😂",
          "😍",
          "❤️",
          "❤",
          "🔥",
          "😭",
          "😘",
          "💖",
          "💕",
          "👍"
         ],
         "y": [
          36987,
          33453,
          16911,
          14167,
          8694,
          8398,
          5545,
          5359,
          5147,
          4251
         ]
        }
       ],
       "layout": {
        "template": {
         "data": {
          "bar": [
           {
            "error_x": {
             "color": "#2a3f5f"
            },
            "error_y": {
             "color": "#2a3f5f"
            },
            "marker": {
             "line": {
              "color": "#E5ECF6",
              "width": 0.5
             },
             "pattern": {
              "fillmode": "overlay",
              "size": 10,
              "solidity": 0.2
             }
            },
            "type": "bar"
           }
          ],
          "barpolar": [
           {
            "marker": {
             "line": {
              "color": "#E5ECF6",
              "width": 0.5
             },
             "pattern": {
              "fillmode": "overlay",
              "size": 10,
              "solidity": 0.2
             }
            },
            "type": "barpolar"
           }
          ],
          "carpet": [
           {
            "aaxis": {
             "endlinecolor": "#2a3f5f",
             "gridcolor": "white",
             "linecolor": "white",
             "minorgridcolor": "white",
             "startlinecolor": "#2a3f5f"
            },
            "baxis": {
             "endlinecolor": "#2a3f5f",
             "gridcolor": "white",
             "linecolor": "white",
             "minorgridcolor": "white",
             "startlinecolor": "#2a3f5f"
            },
            "type": "carpet"
           }
          ],
          "choropleth": [
           {
            "colorbar": {
             "outlinewidth": 0,
             "ticks": ""
            },
            "type": "choropleth"
           }
          ],
          "contour": [
           {
            "colorbar": {
             "outlinewidth": 0,
             "ticks": ""
            },
            "colorscale": [
             [
              0,
              "#0d0887"
             ],
             [
              0.1111111111111111,
              "#46039f"
             ],
             [
              0.2222222222222222,
              "#7201a8"
             ],
             [
              0.3333333333333333,
              "#9c179e"
             ],
             [
              0.4444444444444444,
              "#bd3786"
             ],
             [
              0.5555555555555556,
              "#d8576b"
             ],
             [
              0.6666666666666666,
              "#ed7953"
             ],
             [
              0.7777777777777778,
              "#fb9f3a"
             ],
             [
              0.8888888888888888,
              "#fdca26"
             ],
             [
              1,
              "#f0f921"
             ]
            ],
            "type": "contour"
           }
          ],
          "contourcarpet": [
           {
            "colorbar": {
             "outlinewidth": 0,
             "ticks": ""
            },
            "type": "contourcarpet"
           }
          ],
          "heatmap": [
           {
            "colorbar": {
             "outlinewidth": 0,
             "ticks": ""
            },
            "colorscale": [
             [
              0,
              "#0d0887"
             ],
             [
              0.1111111111111111,
              "#46039f"
             ],
             [
              0.2222222222222222,
              "#7201a8"
             ],
             [
              0.3333333333333333,
              "#9c179e"
             ],
             [
              0.4444444444444444,
              "#bd3786"
             ],
             [
              0.5555555555555556,
              "#d8576b"
             ],
             [
              0.6666666666666666,
              "#ed7953"
             ],
             [
              0.7777777777777778,
              "#fb9f3a"
             ],
             [
              0.8888888888888888,
              "#fdca26"
             ],
             [
              1,
              "#f0f921"
             ]
            ],
            "type": "heatmap"
           }
          ],
          "heatmapgl": [
           {
            "colorbar": {
             "outlinewidth": 0,
             "ticks": ""
            },
            "colorscale": [
             [
              0,
              "#0d0887"
             ],
             [
              0.1111111111111111,
              "#46039f"
             ],
             [
              0.2222222222222222,
              "#7201a8"
             ],
             [
              0.3333333333333333,
              "#9c179e"
             ],
             [
              0.4444444444444444,
              "#bd3786"
             ],
             [
              0.5555555555555556,
              "#d8576b"
             ],
             [
              0.6666666666666666,
              "#ed7953"
             ],
             [
              0.7777777777777778,
              "#fb9f3a"
             ],
             [
              0.8888888888888888,
              "#fdca26"
             ],
             [
              1,
              "#f0f921"
             ]
            ],
            "type": "heatmapgl"
           }
          ],
          "histogram": [
           {
            "marker": {
             "pattern": {
              "fillmode": "overlay",
              "size": 10,
              "solidity": 0.2
             }
            },
            "type": "histogram"
           }
          ],
          "histogram2d": [
           {
            "colorbar": {
             "outlinewidth": 0,
             "ticks": ""
            },
            "colorscale": [
             [
              0,
              "#0d0887"
             ],
             [
              0.1111111111111111,
              "#46039f"
             ],
             [
              0.2222222222222222,
              "#7201a8"
             ],
             [
              0.3333333333333333,
              "#9c179e"
             ],
             [
              0.4444444444444444,
              "#bd3786"
             ],
             [
              0.5555555555555556,
              "#d8576b"
             ],
             [
              0.6666666666666666,
              "#ed7953"
             ],
             [
              0.7777777777777778,
              "#fb9f3a"
             ],
             [
              0.8888888888888888,
              "#fdca26"
             ],
             [
              1,
              "#f0f921"
             ]
            ],
            "type": "histogram2d"
           }
          ],
          "histogram2dcontour": [
           {
            "colorbar": {
             "outlinewidth": 0,
             "ticks": ""
            },
            "colorscale": [
             [
              0,
              "#0d0887"
             ],
             [
              0.1111111111111111,
              "#46039f"
             ],
             [
              0.2222222222222222,
              "#7201a8"
             ],
             [
              0.3333333333333333,
              "#9c179e"
             ],
             [
              0.4444444444444444,
              "#bd3786"
             ],
             [
              0.5555555555555556,
              "#d8576b"
             ],
             [
              0.6666666666666666,
              "#ed7953"
             ],
             [
              0.7777777777777778,
              "#fb9f3a"
             ],
             [
              0.8888888888888888,
              "#fdca26"
             ],
             [
              1,
              "#f0f921"
             ]
            ],
            "type": "histogram2dcontour"
           }
          ],
          "mesh3d": [
           {
            "colorbar": {
             "outlinewidth": 0,
             "ticks": ""
            },
            "type": "mesh3d"
           }
          ],
          "parcoords": [
           {
            "line": {
             "colorbar": {
              "outlinewidth": 0,
              "ticks": ""
             }
            },
            "type": "parcoords"
           }
          ],
          "pie": [
           {
            "automargin": true,
            "type": "pie"
           }
          ],
          "scatter": [
           {
            "fillpattern": {
             "fillmode": "overlay",
             "size": 10,
             "solidity": 0.2
            },
            "type": "scatter"
           }
          ],
          "scatter3d": [
           {
            "line": {
             "colorbar": {
              "outlinewidth": 0,
              "ticks": ""
             }
            },
            "marker": {
             "colorbar": {
              "outlinewidth": 0,
              "ticks": ""
             }
            },
            "type": "scatter3d"
           }
          ],
          "scattercarpet": [
           {
            "marker": {
             "colorbar": {
              "outlinewidth": 0,
              "ticks": ""
             }
            },
            "type": "scattercarpet"
           }
          ],
          "scattergeo": [
           {
            "marker": {
             "colorbar": {
              "outlinewidth": 0,
              "ticks": ""
             }
            },
            "type": "scattergeo"
           }
          ],
          "scattergl": [
           {
            "marker": {
             "colorbar": {
              "outlinewidth": 0,
              "ticks": ""
             }
            },
            "type": "scattergl"
           }
          ],
          "scattermapbox": [
           {
            "marker": {
             "colorbar": {
              "outlinewidth": 0,
              "ticks": ""
             }
            },
            "type": "scattermapbox"
           }
          ],
          "scatterpolar": [
           {
            "marker": {
             "colorbar": {
              "outlinewidth": 0,
              "ticks": ""
             }
            },
            "type": "scatterpolar"
           }
          ],
          "scatterpolargl": [
           {
            "marker": {
             "colorbar": {
              "outlinewidth": 0,
              "ticks": ""
             }
            },
            "type": "scatterpolargl"
           }
          ],
          "scatterternary": [
           {
            "marker": {
             "colorbar": {
              "outlinewidth": 0,
              "ticks": ""
             }
            },
            "type": "scatterternary"
           }
          ],
          "surface": [
           {
            "colorbar": {
             "outlinewidth": 0,
             "ticks": ""
            },
            "colorscale": [
             [
              0,
              "#0d0887"
             ],
             [
              0.1111111111111111,
              "#46039f"
             ],
             [
              0.2222222222222222,
              "#7201a8"
             ],
             [
              0.3333333333333333,
              "#9c179e"
             ],
             [
              0.4444444444444444,
              "#bd3786"
             ],
             [
              0.5555555555555556,
              "#d8576b"
             ],
             [
              0.6666666666666666,
              "#ed7953"
             ],
             [
              0.7777777777777778,
              "#fb9f3a"
             ],
             [
              0.8888888888888888,
              "#fdca26"
             ],
             [
              1,
              "#f0f921"
             ]
            ],
            "type": "surface"
           }
          ],
          "table": [
           {
            "cells": {
             "fill": {
              "color": "#EBF0F8"
             },
             "line": {
              "color": "white"
             }
            },
            "header": {
             "fill": {
              "color": "#C8D4E3"
             },
             "line": {
              "color": "white"
             }
            },
            "type": "table"
           }
          ]
         },
         "layout": {
          "annotationdefaults": {
           "arrowcolor": "#2a3f5f",
           "arrowhead": 0,
           "arrowwidth": 1
          },
          "autotypenumbers": "strict",
          "coloraxis": {
           "colorbar": {
            "outlinewidth": 0,
            "ticks": ""
           }
          },
          "colorscale": {
           "diverging": [
            [
             0,
             "#8e0152"
            ],
            [
             0.1,
             "#c51b7d"
            ],
            [
             0.2,
             "#de77ae"
            ],
            [
             0.3,
             "#f1b6da"
            ],
            [
             0.4,
             "#fde0ef"
            ],
            [
             0.5,
             "#f7f7f7"
            ],
            [
             0.6,
             "#e6f5d0"
            ],
            [
             0.7,
             "#b8e186"
            ],
            [
             0.8,
             "#7fbc41"
            ],
            [
             0.9,
             "#4d9221"
            ],
            [
             1,
             "#276419"
            ]
           ],
           "sequential": [
            [
             0,
             "#0d0887"
            ],
            [
             0.1111111111111111,
             "#46039f"
            ],
            [
             0.2222222222222222,
             "#7201a8"
            ],
            [
             0.3333333333333333,
             "#9c179e"
            ],
            [
             0.4444444444444444,
             "#bd3786"
            ],
            [
             0.5555555555555556,
             "#d8576b"
            ],
            [
             0.6666666666666666,
             "#ed7953"
            ],
            [
             0.7777777777777778,
             "#fb9f3a"
            ],
            [
             0.8888888888888888,
             "#fdca26"
            ],
            [
             1,
             "#f0f921"
            ]
           ],
           "sequentialminus": [
            [
             0,
             "#0d0887"
            ],
            [
             0.1111111111111111,
             "#46039f"
            ],
            [
             0.2222222222222222,
             "#7201a8"
            ],
            [
             0.3333333333333333,
             "#9c179e"
            ],
            [
             0.4444444444444444,
             "#bd3786"
            ],
            [
             0.5555555555555556,
             "#d8576b"
            ],
            [
             0.6666666666666666,
             "#ed7953"
            ],
            [
             0.7777777777777778,
             "#fb9f3a"
            ],
            [
             0.8888888888888888,
             "#fdca26"
            ],
            [
             1,
             "#f0f921"
            ]
           ]
          },
          "colorway": [
           "#636efa",
           "#EF553B",
           "#00cc96",
           "#ab63fa",
           "#FFA15A",
           "#19d3f3",
           "#FF6692",
           "#B6E880",
           "#FF97FF",
           "#FECB52"
          ],
          "font": {
           "color": "#2a3f5f"
          },
          "geo": {
           "bgcolor": "white",
           "lakecolor": "white",
           "landcolor": "#E5ECF6",
           "showlakes": true,
           "showland": true,
           "subunitcolor": "white"
          },
          "hoverlabel": {
           "align": "left"
          },
          "hovermode": "closest",
          "mapbox": {
           "style": "light"
          },
          "paper_bgcolor": "white",
          "plot_bgcolor": "#E5ECF6",
          "polar": {
           "angularaxis": {
            "gridcolor": "white",
            "linecolor": "white",
            "ticks": ""
           },
           "bgcolor": "#E5ECF6",
           "radialaxis": {
            "gridcolor": "white",
            "linecolor": "white",
            "ticks": ""
           }
          },
          "scene": {
           "xaxis": {
            "backgroundcolor": "#E5ECF6",
            "gridcolor": "white",
            "gridwidth": 2,
            "linecolor": "white",
            "showbackground": true,
            "ticks": "",
            "zerolinecolor": "white"
           },
           "yaxis": {
            "backgroundcolor": "#E5ECF6",
            "gridcolor": "white",
            "gridwidth": 2,
            "linecolor": "white",
            "showbackground": true,
            "ticks": "",
            "zerolinecolor": "white"
           },
           "zaxis": {
            "backgroundcolor": "#E5ECF6",
            "gridcolor": "white",
            "gridwidth": 2,
            "linecolor": "white",
            "showbackground": true,
            "ticks": "",
            "zerolinecolor": "white"
           }
          },
          "shapedefaults": {
           "line": {
            "color": "#2a3f5f"
           }
          },
          "ternary": {
           "aaxis": {
            "gridcolor": "white",
            "linecolor": "white",
            "ticks": ""
           },
           "baxis": {
            "gridcolor": "white",
            "linecolor": "white",
            "ticks": ""
           },
           "bgcolor": "#E5ECF6",
           "caxis": {
            "gridcolor": "white",
            "linecolor": "white",
            "ticks": ""
           }
          },
          "title": {
           "x": 0.05
          },
          "xaxis": {
           "automargin": true,
           "gridcolor": "white",
           "linecolor": "white",
           "ticks": "",
           "title": {
            "standoff": 15
           },
           "zerolinecolor": "white",
           "zerolinewidth": 2
          },
          "yaxis": {
           "automargin": true,
           "gridcolor": "white",
           "linecolor": "white",
           "ticks": "",
           "title": {
            "standoff": 15
           },
           "zerolinecolor": "white",
           "zerolinewidth": 2
          }
         }
        }
       }
      }
     },
     "metadata": {},
     "output_type": "display_data"
    }
   ],
   "source": [
    "iplot([go.Bar(x= emojis,y=count)])"
   ]
  },
  {
   "cell_type": "code",
   "execution_count": 76,
   "id": "90773dde",
   "metadata": {},
   "outputs": [],
   "source": [
    "import os"
   ]
  },
  {
   "cell_type": "code",
   "execution_count": 83,
   "id": "d6454c12",
   "metadata": {},
   "outputs": [],
   "source": [
    "files = os.listdir(\"C:/Users/ASUS/Downloads/Youtube_project_shan_singh_Udemy/additional_data\")"
   ]
  },
  {
   "cell_type": "code",
   "execution_count": 84,
   "id": "b9a8692e",
   "metadata": {},
   "outputs": [
    {
     "data": {
      "text/plain": [
       "['CAvideos.csv',\n",
       " 'CA_category_id.json',\n",
       " 'DEvideos.csv',\n",
       " 'DE_category_id.json',\n",
       " 'FRvideos.csv',\n",
       " 'FR_category_id.json',\n",
       " 'GBvideos.csv',\n",
       " 'GB_category_id.json',\n",
       " 'INvideos.csv',\n",
       " 'IN_category_id.json',\n",
       " 'JPvideos.csv',\n",
       " 'JP_category_id.json',\n",
       " 'KRvideos.csv',\n",
       " 'KR_category_id.json',\n",
       " 'MXvideos.csv',\n",
       " 'MX_category_id.json',\n",
       " 'RUvideos.csv',\n",
       " 'RU_category_id.json',\n",
       " 'USvideos.csv',\n",
       " 'US_category_id.json']"
      ]
     },
     "execution_count": 84,
     "metadata": {},
     "output_type": "execute_result"
    }
   ],
   "source": [
    "files"
   ]
  },
  {
   "cell_type": "code",
   "execution_count": 85,
   "id": "aba33196",
   "metadata": {},
   "outputs": [
    {
     "name": "stdout",
     "output_type": "stream",
     "text": [
      "CAvideos.csv\n",
      "DEvideos.csv\n",
      "FRvideos.csv\n",
      "GBvideos.csv\n",
      "INvideos.csv\n",
      "JPvideos.csv\n",
      "KRvideos.csv\n",
      "MXvideos.csv\n",
      "RUvideos.csv\n",
      "USvideos.csv\n"
     ]
    }
   ],
   "source": [
    "for file in files:\n",
    "    if '.csv' in file:\n",
    "        print(file)"
   ]
  },
  {
   "cell_type": "code",
   "execution_count": 86,
   "id": "c77c7dd4",
   "metadata": {},
   "outputs": [
    {
     "name": "stdout",
     "output_type": "stream",
     "text": [
      "CA_category_id.json\n",
      "DE_category_id.json\n",
      "FR_category_id.json\n",
      "GB_category_id.json\n",
      "IN_category_id.json\n",
      "JP_category_id.json\n",
      "KR_category_id.json\n",
      "MX_category_id.json\n",
      "RU_category_id.json\n",
      "US_category_id.json\n"
     ]
    }
   ],
   "source": [
    "for file in files:\n",
    "    if '.json' in file:\n",
    "        print(file)"
   ]
  },
  {
   "cell_type": "code",
   "execution_count": 87,
   "id": "77a1a313",
   "metadata": {},
   "outputs": [],
   "source": [
    "files_csv = [file for file in files if '.csv' in file]"
   ]
  },
  {
   "cell_type": "code",
   "execution_count": 88,
   "id": "decc8d61",
   "metadata": {},
   "outputs": [
    {
     "data": {
      "text/plain": [
       "['CAvideos.csv',\n",
       " 'DEvideos.csv',\n",
       " 'FRvideos.csv',\n",
       " 'GBvideos.csv',\n",
       " 'INvideos.csv',\n",
       " 'JPvideos.csv',\n",
       " 'KRvideos.csv',\n",
       " 'MXvideos.csv',\n",
       " 'RUvideos.csv',\n",
       " 'USvideos.csv']"
      ]
     },
     "execution_count": 88,
     "metadata": {},
     "output_type": "execute_result"
    }
   ],
   "source": [
    "files_csv"
   ]
  },
  {
   "cell_type": "code",
   "execution_count": 89,
   "id": "3f8a3a2c",
   "metadata": {},
   "outputs": [],
   "source": [
    "import warnings\n",
    "from warnings import filterwarnings\n",
    "filterwarnings('ignore')"
   ]
  },
  {
   "cell_type": "code",
   "execution_count": null,
   "id": "5507f844",
   "metadata": {},
   "outputs": [],
   "source": [
    "full_df = pd.DataFrame()\n",
    "path = \"C:/Users/ASUS/Downloads/Youtube_project_shan_singh_Udemy/additional_data\"\n",
    "\n",
    "for file in files_csv:\n",
    "    current_df = pd.read_csv(path + '/' + file , encoding = 'iso-8859-1' , on_bad_lines = 'skip')\n",
    "    full_df = pd.concat([current_df,full_df] , ignore_index = True)"
   ]
  },
  {
   "cell_type": "code",
   "execution_count": 92,
   "id": "fd524297",
   "metadata": {},
   "outputs": [
    {
     "data": {
      "text/plain": [
       "(375942, 16)"
      ]
     },
     "execution_count": 92,
     "metadata": {},
     "output_type": "execute_result"
    }
   ],
   "source": [
    "full_df.shape"
   ]
  },
  {
   "cell_type": "code",
   "execution_count": 94,
   "id": "f60abf76",
   "metadata": {},
   "outputs": [
    {
     "data": {
      "text/plain": [
       "(36417, 16)"
      ]
     },
     "execution_count": 94,
     "metadata": {},
     "output_type": "execute_result"
    }
   ],
   "source": [
    "full_df[full_df.duplicated()].shape"
   ]
  },
  {
   "cell_type": "code",
   "execution_count": 95,
   "id": "1eac8479",
   "metadata": {},
   "outputs": [
    {
     "data": {
      "text/html": [
       "<div>\n",
       "<style scoped>\n",
       "    .dataframe tbody tr th:only-of-type {\n",
       "        vertical-align: middle;\n",
       "    }\n",
       "\n",
       "    .dataframe tbody tr th {\n",
       "        vertical-align: top;\n",
       "    }\n",
       "\n",
       "    .dataframe thead th {\n",
       "        text-align: right;\n",
       "    }\n",
       "</style>\n",
       "<table border=\"1\" class=\"dataframe\">\n",
       "  <thead>\n",
       "    <tr style=\"text-align: right;\">\n",
       "      <th></th>\n",
       "      <th>video_id</th>\n",
       "      <th>trending_date</th>\n",
       "      <th>title</th>\n",
       "      <th>channel_title</th>\n",
       "      <th>category_id</th>\n",
       "      <th>publish_time</th>\n",
       "      <th>tags</th>\n",
       "      <th>views</th>\n",
       "      <th>likes</th>\n",
       "      <th>dislikes</th>\n",
       "      <th>comment_count</th>\n",
       "      <th>thumbnail_link</th>\n",
       "      <th>comments_disabled</th>\n",
       "      <th>ratings_disabled</th>\n",
       "      <th>video_error_or_removed</th>\n",
       "      <th>description</th>\n",
       "    </tr>\n",
       "  </thead>\n",
       "  <tbody>\n",
       "    <tr>\n",
       "      <th>0</th>\n",
       "      <td>2kyS6SvSYSE</td>\n",
       "      <td>17.14.11</td>\n",
       "      <td>WE WANT TO TALK ABOUT OUR MARRIAGE</td>\n",
       "      <td>CaseyNeistat</td>\n",
       "      <td>22</td>\n",
       "      <td>2017-11-13T17:13:01.000Z</td>\n",
       "      <td>SHANtell martin</td>\n",
       "      <td>748374</td>\n",
       "      <td>57527</td>\n",
       "      <td>2966</td>\n",
       "      <td>15954</td>\n",
       "      <td>https://i.ytimg.com/vi/2kyS6SvSYSE/default.jpg</td>\n",
       "      <td>False</td>\n",
       "      <td>False</td>\n",
       "      <td>False</td>\n",
       "      <td>SHANTELL'S CHANNEL - https://www.youtube.com/s...</td>\n",
       "    </tr>\n",
       "    <tr>\n",
       "      <th>1</th>\n",
       "      <td>1ZAPwfrtAFY</td>\n",
       "      <td>17.14.11</td>\n",
       "      <td>The Trump Presidency: Last Week Tonight with J...</td>\n",
       "      <td>LastWeekTonight</td>\n",
       "      <td>24</td>\n",
       "      <td>2017-11-13T07:30:00.000Z</td>\n",
       "      <td>last week tonight trump presidency|\"last week ...</td>\n",
       "      <td>2418783</td>\n",
       "      <td>97185</td>\n",
       "      <td>6146</td>\n",
       "      <td>12703</td>\n",
       "      <td>https://i.ytimg.com/vi/1ZAPwfrtAFY/default.jpg</td>\n",
       "      <td>False</td>\n",
       "      <td>False</td>\n",
       "      <td>False</td>\n",
       "      <td>One year after the presidential election, John...</td>\n",
       "    </tr>\n",
       "    <tr>\n",
       "      <th>2</th>\n",
       "      <td>5qpjK5DgCt4</td>\n",
       "      <td>17.14.11</td>\n",
       "      <td>Racist Superman | Rudy Mancuso, King Bach &amp; Le...</td>\n",
       "      <td>Rudy Mancuso</td>\n",
       "      <td>23</td>\n",
       "      <td>2017-11-12T19:05:24.000Z</td>\n",
       "      <td>racist superman|\"rudy\"|\"mancuso\"|\"king\"|\"bach\"...</td>\n",
       "      <td>3191434</td>\n",
       "      <td>146033</td>\n",
       "      <td>5339</td>\n",
       "      <td>8181</td>\n",
       "      <td>https://i.ytimg.com/vi/5qpjK5DgCt4/default.jpg</td>\n",
       "      <td>False</td>\n",
       "      <td>False</td>\n",
       "      <td>False</td>\n",
       "      <td>WATCH MY PREVIOUS VIDEO â¶ \\n\\nSUBSCRIBE âº ...</td>\n",
       "    </tr>\n",
       "    <tr>\n",
       "      <th>3</th>\n",
       "      <td>puqaWrEC7tY</td>\n",
       "      <td>17.14.11</td>\n",
       "      <td>Nickelback Lyrics: Real or Fake?</td>\n",
       "      <td>Good Mythical Morning</td>\n",
       "      <td>24</td>\n",
       "      <td>2017-11-13T11:00:04.000Z</td>\n",
       "      <td>rhett and link|\"gmm\"|\"good mythical morning\"|\"...</td>\n",
       "      <td>343168</td>\n",
       "      <td>10172</td>\n",
       "      <td>666</td>\n",
       "      <td>2146</td>\n",
       "      <td>https://i.ytimg.com/vi/puqaWrEC7tY/default.jpg</td>\n",
       "      <td>False</td>\n",
       "      <td>False</td>\n",
       "      <td>False</td>\n",
       "      <td>Today we find out if Link is a Nickelback amat...</td>\n",
       "    </tr>\n",
       "    <tr>\n",
       "      <th>4</th>\n",
       "      <td>d380meD0W0M</td>\n",
       "      <td>17.14.11</td>\n",
       "      <td>I Dare You: GOING BALD!?</td>\n",
       "      <td>nigahiga</td>\n",
       "      <td>24</td>\n",
       "      <td>2017-11-12T18:01:41.000Z</td>\n",
       "      <td>ryan|\"higa\"|\"higatv\"|\"nigahiga\"|\"i dare you\"|\"...</td>\n",
       "      <td>2095731</td>\n",
       "      <td>132235</td>\n",
       "      <td>1989</td>\n",
       "      <td>17518</td>\n",
       "      <td>https://i.ytimg.com/vi/d380meD0W0M/default.jpg</td>\n",
       "      <td>False</td>\n",
       "      <td>False</td>\n",
       "      <td>False</td>\n",
       "      <td>I know it's been a while since we did this sho...</td>\n",
       "    </tr>\n",
       "    <tr>\n",
       "      <th>...</th>\n",
       "      <td>...</td>\n",
       "      <td>...</td>\n",
       "      <td>...</td>\n",
       "      <td>...</td>\n",
       "      <td>...</td>\n",
       "      <td>...</td>\n",
       "      <td>...</td>\n",
       "      <td>...</td>\n",
       "      <td>...</td>\n",
       "      <td>...</td>\n",
       "      <td>...</td>\n",
       "      <td>...</td>\n",
       "      <td>...</td>\n",
       "      <td>...</td>\n",
       "      <td>...</td>\n",
       "      <td>...</td>\n",
       "    </tr>\n",
       "    <tr>\n",
       "      <th>375937</th>\n",
       "      <td>sGolxsMSGfQ</td>\n",
       "      <td>18.14.06</td>\n",
       "      <td>HOW2: How to Solve a Mystery</td>\n",
       "      <td>Annoying Orange</td>\n",
       "      <td>24</td>\n",
       "      <td>2018-06-13T18:00:07.000Z</td>\n",
       "      <td>annoying orange|\"funny\"|\"fruit\"|\"talking\"|\"ani...</td>\n",
       "      <td>80685</td>\n",
       "      <td>1701</td>\n",
       "      <td>99</td>\n",
       "      <td>1312</td>\n",
       "      <td>https://i.ytimg.com/vi/sGolxsMSGfQ/default.jpg</td>\n",
       "      <td>False</td>\n",
       "      <td>False</td>\n",
       "      <td>False</td>\n",
       "      <td>ð¨ NEW MERCH! http://amzn.to/annoyingorange ...</td>\n",
       "    </tr>\n",
       "    <tr>\n",
       "      <th>375938</th>\n",
       "      <td>8HNuRNi8t70</td>\n",
       "      <td>18.14.06</td>\n",
       "      <td>Eli Lik Lik Episode 13 Partie 01</td>\n",
       "      <td>Elhiwar Ettounsi</td>\n",
       "      <td>24</td>\n",
       "      <td>2018-06-13T19:01:18.000Z</td>\n",
       "      <td>hkayet tounsia|\"elhiwar ettounsi\"|\"denya okhra...</td>\n",
       "      <td>103339</td>\n",
       "      <td>460</td>\n",
       "      <td>66</td>\n",
       "      <td>51</td>\n",
       "      <td>https://i.ytimg.com/vi/8HNuRNi8t70/default.jpg</td>\n",
       "      <td>False</td>\n",
       "      <td>False</td>\n",
       "      <td>False</td>\n",
       "      <td>âº Retrouvez vos programmes prÃ©fÃ©rÃ©s : htt...</td>\n",
       "    </tr>\n",
       "    <tr>\n",
       "      <th>375939</th>\n",
       "      <td>GWlKEM3m2EE</td>\n",
       "      <td>18.14.06</td>\n",
       "      <td>KINGDOM HEARTS III â SQUARE ENIX E3 SHOWCASE...</td>\n",
       "      <td>Kingdom Hearts</td>\n",
       "      <td>20</td>\n",
       "      <td>2018-06-11T17:30:53.000Z</td>\n",
       "      <td>Kingdom Hearts|\"KH3\"|\"Kingdom Hearts 3\"|\"Froze...</td>\n",
       "      <td>773347</td>\n",
       "      <td>25900</td>\n",
       "      <td>224</td>\n",
       "      <td>3881</td>\n",
       "      <td>https://i.ytimg.com/vi/GWlKEM3m2EE/default.jpg</td>\n",
       "      <td>False</td>\n",
       "      <td>False</td>\n",
       "      <td>False</td>\n",
       "      <td>Find out more about Kingdom Hearts 3: https://...</td>\n",
       "    </tr>\n",
       "    <tr>\n",
       "      <th>375940</th>\n",
       "      <td>lbMKLzQ4cNQ</td>\n",
       "      <td>18.14.06</td>\n",
       "      <td>Trump Advisor Grovels To Trudeau</td>\n",
       "      <td>The Young Turks</td>\n",
       "      <td>25</td>\n",
       "      <td>2018-06-13T04:00:05.000Z</td>\n",
       "      <td>180612__TB02SorryExcuse|\"News\"|\"Politics\"|\"The...</td>\n",
       "      <td>115225</td>\n",
       "      <td>2115</td>\n",
       "      <td>182</td>\n",
       "      <td>1672</td>\n",
       "      <td>https://i.ytimg.com/vi/lbMKLzQ4cNQ/default.jpg</td>\n",
       "      <td>False</td>\n",
       "      <td>False</td>\n",
       "      <td>False</td>\n",
       "      <td>Peter Navarro isnât talking so tough now. An...</td>\n",
       "    </tr>\n",
       "    <tr>\n",
       "      <th>375941</th>\n",
       "      <td>POTgw38-m58</td>\n",
       "      <td>18.14.06</td>\n",
       "      <td>ãå®æ´çãéå°æææäººè©²æéº¼è¾¦ï...</td>\n",
       "      <td>ææå°ææå¤§è·ç­</td>\n",
       "      <td>24</td>\n",
       "      <td>2018-06-13T16:00:03.000Z</td>\n",
       "      <td>å³å®æ²|\"å³å§å\"|\"å°ææå¤§è·ç­\"|\"Sa...</td>\n",
       "      <td>107392</td>\n",
       "      <td>300</td>\n",
       "      <td>62</td>\n",
       "      <td>251</td>\n",
       "      <td>https://i.ytimg.com/vi/POTgw38-m58/default.jpg</td>\n",
       "      <td>False</td>\n",
       "      <td>False</td>\n",
       "      <td>False</td>\n",
       "      <td>èäººï¼æå¦ç¾ãçåãç­åãLaLaã...</td>\n",
       "    </tr>\n",
       "  </tbody>\n",
       "</table>\n",
       "<p>339525 rows × 16 columns</p>\n",
       "</div>"
      ],
      "text/plain": [
       "           video_id trending_date  \\\n",
       "0       2kyS6SvSYSE      17.14.11   \n",
       "1       1ZAPwfrtAFY      17.14.11   \n",
       "2       5qpjK5DgCt4      17.14.11   \n",
       "3       puqaWrEC7tY      17.14.11   \n",
       "4       d380meD0W0M      17.14.11   \n",
       "...             ...           ...   \n",
       "375937  sGolxsMSGfQ      18.14.06   \n",
       "375938  8HNuRNi8t70      18.14.06   \n",
       "375939  GWlKEM3m2EE      18.14.06   \n",
       "375940  lbMKLzQ4cNQ      18.14.06   \n",
       "375941  POTgw38-m58      18.14.06   \n",
       "\n",
       "                                                    title  \\\n",
       "0                      WE WANT TO TALK ABOUT OUR MARRIAGE   \n",
       "1       The Trump Presidency: Last Week Tonight with J...   \n",
       "2       Racist Superman | Rudy Mancuso, King Bach & Le...   \n",
       "3                        Nickelback Lyrics: Real or Fake?   \n",
       "4                                I Dare You: GOING BALD!?   \n",
       "...                                                   ...   \n",
       "375937                       HOW2: How to Solve a Mystery   \n",
       "375938                   Eli Lik Lik Episode 13 Partie 01   \n",
       "375939  KINGDOM HEARTS III â SQUARE ENIX E3 SHOWCASE...   \n",
       "375940                   Trump Advisor Grovels To Trudeau   \n",
       "375941  ãå®æ´çãéå°æææ\n",
       "äººè©²æéº¼è¾¦ï...   \n",
       "\n",
       "                   channel_title  category_id              publish_time  \\\n",
       "0                   CaseyNeistat           22  2017-11-13T17:13:01.000Z   \n",
       "1                LastWeekTonight           24  2017-11-13T07:30:00.000Z   \n",
       "2                   Rudy Mancuso           23  2017-11-12T19:05:24.000Z   \n",
       "3          Good Mythical Morning           24  2017-11-13T11:00:04.000Z   \n",
       "4                       nigahiga           24  2017-11-12T18:01:41.000Z   \n",
       "...                          ...          ...                       ...   \n",
       "375937           Annoying Orange           24  2018-06-13T18:00:07.000Z   \n",
       "375938          Elhiwar Ettounsi           24  2018-06-13T19:01:18.000Z   \n",
       "375939            Kingdom Hearts           20  2018-06-11T17:30:53.000Z   \n",
       "375940           The Young Turks           25  2018-06-13T04:00:05.000Z   \n",
       "375941  ææå°ææå¤§è·ç­           24  2018-06-13T16:00:03.000Z   \n",
       "\n",
       "                                                     tags    views   likes  \\\n",
       "0                                         SHANtell martin   748374   57527   \n",
       "1       last week tonight trump presidency|\"last week ...  2418783   97185   \n",
       "2       racist superman|\"rudy\"|\"mancuso\"|\"king\"|\"bach\"...  3191434  146033   \n",
       "3       rhett and link|\"gmm\"|\"good mythical morning\"|\"...   343168   10172   \n",
       "4       ryan|\"higa\"|\"higatv\"|\"nigahiga\"|\"i dare you\"|\"...  2095731  132235   \n",
       "...                                                   ...      ...     ...   \n",
       "375937  annoying orange|\"funny\"|\"fruit\"|\"talking\"|\"ani...    80685    1701   \n",
       "375938  hkayet tounsia|\"elhiwar ettounsi\"|\"denya okhra...   103339     460   \n",
       "375939  Kingdom Hearts|\"KH3\"|\"Kingdom Hearts 3\"|\"Froze...   773347   25900   \n",
       "375940  180612__TB02SorryExcuse|\"News\"|\"Politics\"|\"The...   115225    2115   \n",
       "375941  å³å®æ²|\"å³å§å\"|\"å°ææå¤§è·ç­\"|\"Sa...   107392     300   \n",
       "\n",
       "        dislikes  comment_count  \\\n",
       "0           2966          15954   \n",
       "1           6146          12703   \n",
       "2           5339           8181   \n",
       "3            666           2146   \n",
       "4           1989          17518   \n",
       "...          ...            ...   \n",
       "375937        99           1312   \n",
       "375938        66             51   \n",
       "375939       224           3881   \n",
       "375940       182           1672   \n",
       "375941        62            251   \n",
       "\n",
       "                                        thumbnail_link  comments_disabled  \\\n",
       "0       https://i.ytimg.com/vi/2kyS6SvSYSE/default.jpg              False   \n",
       "1       https://i.ytimg.com/vi/1ZAPwfrtAFY/default.jpg              False   \n",
       "2       https://i.ytimg.com/vi/5qpjK5DgCt4/default.jpg              False   \n",
       "3       https://i.ytimg.com/vi/puqaWrEC7tY/default.jpg              False   \n",
       "4       https://i.ytimg.com/vi/d380meD0W0M/default.jpg              False   \n",
       "...                                                ...                ...   \n",
       "375937  https://i.ytimg.com/vi/sGolxsMSGfQ/default.jpg              False   \n",
       "375938  https://i.ytimg.com/vi/8HNuRNi8t70/default.jpg              False   \n",
       "375939  https://i.ytimg.com/vi/GWlKEM3m2EE/default.jpg              False   \n",
       "375940  https://i.ytimg.com/vi/lbMKLzQ4cNQ/default.jpg              False   \n",
       "375941  https://i.ytimg.com/vi/POTgw38-m58/default.jpg              False   \n",
       "\n",
       "        ratings_disabled  video_error_or_removed  \\\n",
       "0                  False                   False   \n",
       "1                  False                   False   \n",
       "2                  False                   False   \n",
       "3                  False                   False   \n",
       "4                  False                   False   \n",
       "...                  ...                     ...   \n",
       "375937             False                   False   \n",
       "375938             False                   False   \n",
       "375939             False                   False   \n",
       "375940             False                   False   \n",
       "375941             False                   False   \n",
       "\n",
       "                                              description  \n",
       "0       SHANTELL'S CHANNEL - https://www.youtube.com/s...  \n",
       "1       One year after the presidential election, John...  \n",
       "2       WATCH MY PREVIOUS VIDEO â¶ \\n\\nSUBSCRIBE âº ...  \n",
       "3       Today we find out if Link is a Nickelback amat...  \n",
       "4       I know it's been a while since we did this sho...  \n",
       "...                                                   ...  \n",
       "375937  ð¨ NEW MERCH! http://amzn.to/annoyingorange ...  \n",
       "375938  âº Retrouvez vos programmes prÃ©fÃ©rÃ©s : htt...  \n",
       "375939  Find out more about Kingdom Hearts 3: https://...  \n",
       "375940  Peter Navarro isnât talking so tough now. An...  \n",
       "375941  èäººï¼æå¦ç¾ãçå\n",
       "ãç­åãLaLaã...  \n",
       "\n",
       "[339525 rows x 16 columns]"
      ]
     },
     "execution_count": 95,
     "metadata": {},
     "output_type": "execute_result"
    }
   ],
   "source": [
    "full_df.drop_duplicates()"
   ]
  },
  {
   "cell_type": "code",
   "execution_count": 96,
   "id": "f33fb3b3",
   "metadata": {},
   "outputs": [],
   "source": [
    "full_df = full_df.drop_duplicates()"
   ]
  },
  {
   "cell_type": "code",
   "execution_count": 97,
   "id": "c491ec89",
   "metadata": {},
   "outputs": [
    {
     "data": {
      "text/plain": [
       "(339525, 16)"
      ]
     },
     "execution_count": 97,
     "metadata": {},
     "output_type": "execute_result"
    }
   ],
   "source": [
    "full_df.shape"
   ]
  },
  {
   "cell_type": "code",
   "execution_count": 98,
   "id": "17fe342e",
   "metadata": {},
   "outputs": [],
   "source": [
    "full_df.to_csv(\"C:/Users/ASUS/Downloads/Youtube_project_shan_singh_Udemy/sample_data.csv\" , index=False)"
   ]
  },
  {
   "cell_type": "code",
   "execution_count": 99,
   "id": "264092c3",
   "metadata": {},
   "outputs": [],
   "source": [
    "from sqlalchemy import create_engine"
   ]
  },
  {
   "cell_type": "markdown",
   "id": "456c22ac",
   "metadata": {},
   "source": [
    "5.Category with most likes"
   ]
  },
  {
   "cell_type": "code",
   "execution_count": 100,
   "id": "3630a6a2",
   "metadata": {},
   "outputs": [
    {
     "data": {
      "text/html": [
       "<div>\n",
       "<style scoped>\n",
       "    .dataframe tbody tr th:only-of-type {\n",
       "        vertical-align: middle;\n",
       "    }\n",
       "\n",
       "    .dataframe tbody tr th {\n",
       "        vertical-align: top;\n",
       "    }\n",
       "\n",
       "    .dataframe thead th {\n",
       "        text-align: right;\n",
       "    }\n",
       "</style>\n",
       "<table border=\"1\" class=\"dataframe\">\n",
       "  <thead>\n",
       "    <tr style=\"text-align: right;\">\n",
       "      <th></th>\n",
       "      <th>video_id</th>\n",
       "      <th>trending_date</th>\n",
       "      <th>title</th>\n",
       "      <th>channel_title</th>\n",
       "      <th>category_id</th>\n",
       "      <th>publish_time</th>\n",
       "      <th>tags</th>\n",
       "      <th>views</th>\n",
       "      <th>likes</th>\n",
       "      <th>dislikes</th>\n",
       "      <th>comment_count</th>\n",
       "      <th>thumbnail_link</th>\n",
       "      <th>comments_disabled</th>\n",
       "      <th>ratings_disabled</th>\n",
       "      <th>video_error_or_removed</th>\n",
       "      <th>description</th>\n",
       "    </tr>\n",
       "  </thead>\n",
       "  <tbody>\n",
       "    <tr>\n",
       "      <th>0</th>\n",
       "      <td>2kyS6SvSYSE</td>\n",
       "      <td>17.14.11</td>\n",
       "      <td>WE WANT TO TALK ABOUT OUR MARRIAGE</td>\n",
       "      <td>CaseyNeistat</td>\n",
       "      <td>22</td>\n",
       "      <td>2017-11-13T17:13:01.000Z</td>\n",
       "      <td>SHANtell martin</td>\n",
       "      <td>748374</td>\n",
       "      <td>57527</td>\n",
       "      <td>2966</td>\n",
       "      <td>15954</td>\n",
       "      <td>https://i.ytimg.com/vi/2kyS6SvSYSE/default.jpg</td>\n",
       "      <td>False</td>\n",
       "      <td>False</td>\n",
       "      <td>False</td>\n",
       "      <td>SHANTELL'S CHANNEL - https://www.youtube.com/s...</td>\n",
       "    </tr>\n",
       "    <tr>\n",
       "      <th>1</th>\n",
       "      <td>1ZAPwfrtAFY</td>\n",
       "      <td>17.14.11</td>\n",
       "      <td>The Trump Presidency: Last Week Tonight with J...</td>\n",
       "      <td>LastWeekTonight</td>\n",
       "      <td>24</td>\n",
       "      <td>2017-11-13T07:30:00.000Z</td>\n",
       "      <td>last week tonight trump presidency|\"last week ...</td>\n",
       "      <td>2418783</td>\n",
       "      <td>97185</td>\n",
       "      <td>6146</td>\n",
       "      <td>12703</td>\n",
       "      <td>https://i.ytimg.com/vi/1ZAPwfrtAFY/default.jpg</td>\n",
       "      <td>False</td>\n",
       "      <td>False</td>\n",
       "      <td>False</td>\n",
       "      <td>One year after the presidential election, John...</td>\n",
       "    </tr>\n",
       "    <tr>\n",
       "      <th>2</th>\n",
       "      <td>5qpjK5DgCt4</td>\n",
       "      <td>17.14.11</td>\n",
       "      <td>Racist Superman | Rudy Mancuso, King Bach &amp; Le...</td>\n",
       "      <td>Rudy Mancuso</td>\n",
       "      <td>23</td>\n",
       "      <td>2017-11-12T19:05:24.000Z</td>\n",
       "      <td>racist superman|\"rudy\"|\"mancuso\"|\"king\"|\"bach\"...</td>\n",
       "      <td>3191434</td>\n",
       "      <td>146033</td>\n",
       "      <td>5339</td>\n",
       "      <td>8181</td>\n",
       "      <td>https://i.ytimg.com/vi/5qpjK5DgCt4/default.jpg</td>\n",
       "      <td>False</td>\n",
       "      <td>False</td>\n",
       "      <td>False</td>\n",
       "      <td>WATCH MY PREVIOUS VIDEO â¶ \\n\\nSUBSCRIBE âº ...</td>\n",
       "    </tr>\n",
       "    <tr>\n",
       "      <th>3</th>\n",
       "      <td>puqaWrEC7tY</td>\n",
       "      <td>17.14.11</td>\n",
       "      <td>Nickelback Lyrics: Real or Fake?</td>\n",
       "      <td>Good Mythical Morning</td>\n",
       "      <td>24</td>\n",
       "      <td>2017-11-13T11:00:04.000Z</td>\n",
       "      <td>rhett and link|\"gmm\"|\"good mythical morning\"|\"...</td>\n",
       "      <td>343168</td>\n",
       "      <td>10172</td>\n",
       "      <td>666</td>\n",
       "      <td>2146</td>\n",
       "      <td>https://i.ytimg.com/vi/puqaWrEC7tY/default.jpg</td>\n",
       "      <td>False</td>\n",
       "      <td>False</td>\n",
       "      <td>False</td>\n",
       "      <td>Today we find out if Link is a Nickelback amat...</td>\n",
       "    </tr>\n",
       "    <tr>\n",
       "      <th>4</th>\n",
       "      <td>d380meD0W0M</td>\n",
       "      <td>17.14.11</td>\n",
       "      <td>I Dare You: GOING BALD!?</td>\n",
       "      <td>nigahiga</td>\n",
       "      <td>24</td>\n",
       "      <td>2017-11-12T18:01:41.000Z</td>\n",
       "      <td>ryan|\"higa\"|\"higatv\"|\"nigahiga\"|\"i dare you\"|\"...</td>\n",
       "      <td>2095731</td>\n",
       "      <td>132235</td>\n",
       "      <td>1989</td>\n",
       "      <td>17518</td>\n",
       "      <td>https://i.ytimg.com/vi/d380meD0W0M/default.jpg</td>\n",
       "      <td>False</td>\n",
       "      <td>False</td>\n",
       "      <td>False</td>\n",
       "      <td>I know it's been a while since we did this sho...</td>\n",
       "    </tr>\n",
       "  </tbody>\n",
       "</table>\n",
       "</div>"
      ],
      "text/plain": [
       "      video_id trending_date  \\\n",
       "0  2kyS6SvSYSE      17.14.11   \n",
       "1  1ZAPwfrtAFY      17.14.11   \n",
       "2  5qpjK5DgCt4      17.14.11   \n",
       "3  puqaWrEC7tY      17.14.11   \n",
       "4  d380meD0W0M      17.14.11   \n",
       "\n",
       "                                               title          channel_title  \\\n",
       "0                 WE WANT TO TALK ABOUT OUR MARRIAGE           CaseyNeistat   \n",
       "1  The Trump Presidency: Last Week Tonight with J...        LastWeekTonight   \n",
       "2  Racist Superman | Rudy Mancuso, King Bach & Le...           Rudy Mancuso   \n",
       "3                   Nickelback Lyrics: Real or Fake?  Good Mythical Morning   \n",
       "4                           I Dare You: GOING BALD!?               nigahiga   \n",
       "\n",
       "   category_id              publish_time  \\\n",
       "0           22  2017-11-13T17:13:01.000Z   \n",
       "1           24  2017-11-13T07:30:00.000Z   \n",
       "2           23  2017-11-12T19:05:24.000Z   \n",
       "3           24  2017-11-13T11:00:04.000Z   \n",
       "4           24  2017-11-12T18:01:41.000Z   \n",
       "\n",
       "                                                tags    views   likes  \\\n",
       "0                                    SHANtell martin   748374   57527   \n",
       "1  last week tonight trump presidency|\"last week ...  2418783   97185   \n",
       "2  racist superman|\"rudy\"|\"mancuso\"|\"king\"|\"bach\"...  3191434  146033   \n",
       "3  rhett and link|\"gmm\"|\"good mythical morning\"|\"...   343168   10172   \n",
       "4  ryan|\"higa\"|\"higatv\"|\"nigahiga\"|\"i dare you\"|\"...  2095731  132235   \n",
       "\n",
       "   dislikes  comment_count                                  thumbnail_link  \\\n",
       "0      2966          15954  https://i.ytimg.com/vi/2kyS6SvSYSE/default.jpg   \n",
       "1      6146          12703  https://i.ytimg.com/vi/1ZAPwfrtAFY/default.jpg   \n",
       "2      5339           8181  https://i.ytimg.com/vi/5qpjK5DgCt4/default.jpg   \n",
       "3       666           2146  https://i.ytimg.com/vi/puqaWrEC7tY/default.jpg   \n",
       "4      1989          17518  https://i.ytimg.com/vi/d380meD0W0M/default.jpg   \n",
       "\n",
       "   comments_disabled  ratings_disabled  video_error_or_removed  \\\n",
       "0              False             False                   False   \n",
       "1              False             False                   False   \n",
       "2              False             False                   False   \n",
       "3              False             False                   False   \n",
       "4              False             False                   False   \n",
       "\n",
       "                                         description  \n",
       "0  SHANTELL'S CHANNEL - https://www.youtube.com/s...  \n",
       "1  One year after the presidential election, John...  \n",
       "2  WATCH MY PREVIOUS VIDEO â¶ \\n\\nSUBSCRIBE âº ...  \n",
       "3  Today we find out if Link is a Nickelback amat...  \n",
       "4  I know it's been a while since we did this sho...  "
      ]
     },
     "execution_count": 100,
     "metadata": {},
     "output_type": "execute_result"
    }
   ],
   "source": [
    "full_df.head(5)"
   ]
  },
  {
   "cell_type": "code",
   "execution_count": 101,
   "id": "c83f4da8",
   "metadata": {},
   "outputs": [
    {
     "data": {
      "text/plain": [
       "array([22, 24, 23, 28,  1, 25, 17, 10, 15, 27, 26,  2, 19, 20, 29, 43, 30,\n",
       "       44], dtype=int64)"
      ]
     },
     "execution_count": 101,
     "metadata": {},
     "output_type": "execute_result"
    }
   ],
   "source": [
    "full_df['category_id'].unique()"
   ]
  },
  {
   "cell_type": "code",
   "execution_count": 102,
   "id": "30f0877f",
   "metadata": {},
   "outputs": [],
   "source": [
    "json_df = pd.read_json(\"C:/Users/ASUS/Downloads/Youtube_project_shan_singh_Udemy/additional_data/US_category_id.json\")"
   ]
  },
  {
   "cell_type": "code",
   "execution_count": 104,
   "id": "b741c0da",
   "metadata": {},
   "outputs": [
    {
     "data": {
      "text/plain": [
       "0     {'kind': 'youtube#videoCategory', 'etag': '\"m2...\n",
       "1     {'kind': 'youtube#videoCategory', 'etag': '\"m2...\n",
       "2     {'kind': 'youtube#videoCategory', 'etag': '\"m2...\n",
       "3     {'kind': 'youtube#videoCategory', 'etag': '\"m2...\n",
       "4     {'kind': 'youtube#videoCategory', 'etag': '\"m2...\n",
       "5     {'kind': 'youtube#videoCategory', 'etag': '\"m2...\n",
       "6     {'kind': 'youtube#videoCategory', 'etag': '\"m2...\n",
       "7     {'kind': 'youtube#videoCategory', 'etag': '\"m2...\n",
       "8     {'kind': 'youtube#videoCategory', 'etag': '\"m2...\n",
       "9     {'kind': 'youtube#videoCategory', 'etag': '\"m2...\n",
       "10    {'kind': 'youtube#videoCategory', 'etag': '\"m2...\n",
       "11    {'kind': 'youtube#videoCategory', 'etag': '\"m2...\n",
       "12    {'kind': 'youtube#videoCategory', 'etag': '\"m2...\n",
       "13    {'kind': 'youtube#videoCategory', 'etag': '\"m2...\n",
       "14    {'kind': 'youtube#videoCategory', 'etag': '\"m2...\n",
       "15    {'kind': 'youtube#videoCategory', 'etag': '\"m2...\n",
       "16    {'kind': 'youtube#videoCategory', 'etag': '\"m2...\n",
       "17    {'kind': 'youtube#videoCategory', 'etag': '\"m2...\n",
       "18    {'kind': 'youtube#videoCategory', 'etag': '\"m2...\n",
       "19    {'kind': 'youtube#videoCategory', 'etag': '\"m2...\n",
       "20    {'kind': 'youtube#videoCategory', 'etag': '\"m2...\n",
       "21    {'kind': 'youtube#videoCategory', 'etag': '\"m2...\n",
       "22    {'kind': 'youtube#videoCategory', 'etag': '\"m2...\n",
       "23    {'kind': 'youtube#videoCategory', 'etag': '\"m2...\n",
       "24    {'kind': 'youtube#videoCategory', 'etag': '\"m2...\n",
       "25    {'kind': 'youtube#videoCategory', 'etag': '\"m2...\n",
       "26    {'kind': 'youtube#videoCategory', 'etag': '\"m2...\n",
       "27    {'kind': 'youtube#videoCategory', 'etag': '\"m2...\n",
       "28    {'kind': 'youtube#videoCategory', 'etag': '\"m2...\n",
       "29    {'kind': 'youtube#videoCategory', 'etag': '\"m2...\n",
       "30    {'kind': 'youtube#videoCategory', 'etag': '\"m2...\n",
       "31    {'kind': 'youtube#videoCategory', 'etag': '\"m2...\n",
       "Name: items, dtype: object"
      ]
     },
     "execution_count": 104,
     "metadata": {},
     "output_type": "execute_result"
    }
   ],
   "source": [
    "json_df[\"items\"]"
   ]
  },
  {
   "cell_type": "code",
   "execution_count": 105,
   "id": "ee640b6a",
   "metadata": {},
   "outputs": [
    {
     "data": {
      "text/plain": [
       "{'kind': 'youtube#videoCategory',\n",
       " 'etag': '\"m2yskBQFythfE4irbTIeOgYYfBU/Xy1mB4_yLrHy_BmKmPBggty2mZQ\"',\n",
       " 'id': '1',\n",
       " 'snippet': {'channelId': 'UCBR8-60-B28hp2BmDPdntcQ',\n",
       "  'title': 'Film & Animation',\n",
       "  'assignable': True}}"
      ]
     },
     "execution_count": 105,
     "metadata": {},
     "output_type": "execute_result"
    }
   ],
   "source": [
    "json_df[\"items\"][0]"
   ]
  },
  {
   "cell_type": "code",
   "execution_count": 106,
   "id": "7fdd48ac",
   "metadata": {},
   "outputs": [],
   "source": [
    "cat_dict = {}"
   ]
  },
  {
   "cell_type": "code",
   "execution_count": 111,
   "id": "33ad01e3",
   "metadata": {},
   "outputs": [
    {
     "data": {
      "text/plain": [
       "'1'"
      ]
     },
     "execution_count": 111,
     "metadata": {},
     "output_type": "execute_result"
    }
   ],
   "source": [
    "json_df[\"items\"][0]['id']\n"
   ]
  },
  {
   "cell_type": "code",
   "execution_count": 119,
   "id": "d05e7788",
   "metadata": {},
   "outputs": [],
   "source": [
    "id_list = []\n",
    "for i in range(len(json_df['items'])):\n",
    "    cat_id = json_df[\"items\"][i]['id']\n",
    "    id_list.append(cat_id)\n",
    "    \n",
    "               "
   ]
  },
  {
   "cell_type": "code",
   "execution_count": 127,
   "id": "d2ce4447",
   "metadata": {},
   "outputs": [],
   "source": [
    "title_list = []\n",
    "for i in range(len(json_df['items'])):\n",
    "    title = json_df['items'][i]['snippet']['title']\n",
    "    title_list.append(title)\n",
    "    \n",
    "               "
   ]
  },
  {
   "cell_type": "code",
   "execution_count": 126,
   "id": "0e295a95",
   "metadata": {},
   "outputs": [
    {
     "data": {
      "text/plain": [
       "'Film & Animation'"
      ]
     },
     "execution_count": 126,
     "metadata": {},
     "output_type": "execute_result"
    }
   ],
   "source": [
    "json_df['items'][0]['snippet']['title']"
   ]
  },
  {
   "cell_type": "code",
   "execution_count": 128,
   "id": "4705159e",
   "metadata": {},
   "outputs": [
    {
     "data": {
      "text/plain": [
       "['Film & Animation',\n",
       " 'Autos & Vehicles',\n",
       " 'Music',\n",
       " 'Pets & Animals',\n",
       " 'Sports',\n",
       " 'Short Movies',\n",
       " 'Travel & Events',\n",
       " 'Gaming',\n",
       " 'Videoblogging',\n",
       " 'People & Blogs',\n",
       " 'Comedy',\n",
       " 'Entertainment',\n",
       " 'News & Politics',\n",
       " 'Howto & Style',\n",
       " 'Education',\n",
       " 'Science & Technology',\n",
       " 'Nonprofits & Activism',\n",
       " 'Movies',\n",
       " 'Anime/Animation',\n",
       " 'Action/Adventure',\n",
       " 'Classics',\n",
       " 'Comedy',\n",
       " 'Documentary',\n",
       " 'Drama',\n",
       " 'Family',\n",
       " 'Foreign',\n",
       " 'Horror',\n",
       " 'Sci-Fi/Fantasy',\n",
       " 'Thriller',\n",
       " 'Shorts',\n",
       " 'Shows',\n",
       " 'Trailers']"
      ]
     },
     "execution_count": 128,
     "metadata": {},
     "output_type": "execute_result"
    }
   ],
   "source": [
    "title_list"
   ]
  },
  {
   "cell_type": "code",
   "execution_count": 130,
   "id": "bd143eb4",
   "metadata": {},
   "outputs": [],
   "source": [
    "for i in range(len(id_list)):\n",
    "    cat_dict[id_list[i]] = title_list[i]"
   ]
  },
  {
   "cell_type": "code",
   "execution_count": 131,
   "id": "833cc8ae",
   "metadata": {},
   "outputs": [
    {
     "data": {
      "text/plain": [
       "{'1': 'Film & Animation',\n",
       " '2': 'Autos & Vehicles',\n",
       " '10': 'Music',\n",
       " '15': 'Pets & Animals',\n",
       " '17': 'Sports',\n",
       " '18': 'Short Movies',\n",
       " '19': 'Travel & Events',\n",
       " '20': 'Gaming',\n",
       " '21': 'Videoblogging',\n",
       " '22': 'People & Blogs',\n",
       " '23': 'Comedy',\n",
       " '24': 'Entertainment',\n",
       " '25': 'News & Politics',\n",
       " '26': 'Howto & Style',\n",
       " '27': 'Education',\n",
       " '28': 'Science & Technology',\n",
       " '29': 'Nonprofits & Activism',\n",
       " '30': 'Movies',\n",
       " '31': 'Anime/Animation',\n",
       " '32': 'Action/Adventure',\n",
       " '33': 'Classics',\n",
       " '34': 'Comedy',\n",
       " '35': 'Documentary',\n",
       " '36': 'Drama',\n",
       " '37': 'Family',\n",
       " '38': 'Foreign',\n",
       " '39': 'Horror',\n",
       " '40': 'Sci-Fi/Fantasy',\n",
       " '41': 'Thriller',\n",
       " '42': 'Shorts',\n",
       " '43': 'Shows',\n",
       " '44': 'Trailers'}"
      ]
     },
     "execution_count": 131,
     "metadata": {},
     "output_type": "execute_result"
    }
   ],
   "source": [
    "cat_dict"
   ]
  },
  {
   "cell_type": "code",
   "execution_count": 141,
   "id": "1c1aa461",
   "metadata": {},
   "outputs": [],
   "source": [
    "cat_dicti = {}\n",
    "\n",
    "for item in json_df['items'].values:\n",
    "    cat_dicti[int(item['id'])] = item['snippet']['title']"
   ]
  },
  {
   "cell_type": "code",
   "execution_count": 142,
   "id": "3311f7d0",
   "metadata": {},
   "outputs": [
    {
     "data": {
      "text/plain": [
       "{1: 'Film & Animation',\n",
       " 2: 'Autos & Vehicles',\n",
       " 10: 'Music',\n",
       " 15: 'Pets & Animals',\n",
       " 17: 'Sports',\n",
       " 18: 'Short Movies',\n",
       " 19: 'Travel & Events',\n",
       " 20: 'Gaming',\n",
       " 21: 'Videoblogging',\n",
       " 22: 'People & Blogs',\n",
       " 23: 'Comedy',\n",
       " 24: 'Entertainment',\n",
       " 25: 'News & Politics',\n",
       " 26: 'Howto & Style',\n",
       " 27: 'Education',\n",
       " 28: 'Science & Technology',\n",
       " 29: 'Nonprofits & Activism',\n",
       " 30: 'Movies',\n",
       " 31: 'Anime/Animation',\n",
       " 32: 'Action/Adventure',\n",
       " 33: 'Classics',\n",
       " 34: 'Comedy',\n",
       " 35: 'Documentary',\n",
       " 36: 'Drama',\n",
       " 37: 'Family',\n",
       " 38: 'Foreign',\n",
       " 39: 'Horror',\n",
       " 40: 'Sci-Fi/Fantasy',\n",
       " 41: 'Thriller',\n",
       " 42: 'Shorts',\n",
       " 43: 'Shows',\n",
       " 44: 'Trailers'}"
      ]
     },
     "execution_count": 142,
     "metadata": {},
     "output_type": "execute_result"
    }
   ],
   "source": [
    "cat_dicti"
   ]
  },
  {
   "cell_type": "code",
   "execution_count": 144,
   "id": "838b3dd5",
   "metadata": {},
   "outputs": [
    {
     "data": {
      "text/html": [
       "<div>\n",
       "<style scoped>\n",
       "    .dataframe tbody tr th:only-of-type {\n",
       "        vertical-align: middle;\n",
       "    }\n",
       "\n",
       "    .dataframe tbody tr th {\n",
       "        vertical-align: top;\n",
       "    }\n",
       "\n",
       "    .dataframe thead th {\n",
       "        text-align: right;\n",
       "    }\n",
       "</style>\n",
       "<table border=\"1\" class=\"dataframe\">\n",
       "  <thead>\n",
       "    <tr style=\"text-align: right;\">\n",
       "      <th></th>\n",
       "      <th>video_id</th>\n",
       "      <th>trending_date</th>\n",
       "      <th>title</th>\n",
       "      <th>channel_title</th>\n",
       "      <th>category_id</th>\n",
       "      <th>publish_time</th>\n",
       "      <th>tags</th>\n",
       "      <th>views</th>\n",
       "      <th>likes</th>\n",
       "      <th>dislikes</th>\n",
       "      <th>comment_count</th>\n",
       "      <th>thumbnail_link</th>\n",
       "      <th>comments_disabled</th>\n",
       "      <th>ratings_disabled</th>\n",
       "      <th>video_error_or_removed</th>\n",
       "      <th>description</th>\n",
       "    </tr>\n",
       "  </thead>\n",
       "  <tbody>\n",
       "    <tr>\n",
       "      <th>0</th>\n",
       "      <td>2kyS6SvSYSE</td>\n",
       "      <td>17.14.11</td>\n",
       "      <td>WE WANT TO TALK ABOUT OUR MARRIAGE</td>\n",
       "      <td>CaseyNeistat</td>\n",
       "      <td>22</td>\n",
       "      <td>2017-11-13T17:13:01.000Z</td>\n",
       "      <td>SHANtell martin</td>\n",
       "      <td>748374</td>\n",
       "      <td>57527</td>\n",
       "      <td>2966</td>\n",
       "      <td>15954</td>\n",
       "      <td>https://i.ytimg.com/vi/2kyS6SvSYSE/default.jpg</td>\n",
       "      <td>False</td>\n",
       "      <td>False</td>\n",
       "      <td>False</td>\n",
       "      <td>SHANTELL'S CHANNEL - https://www.youtube.com/s...</td>\n",
       "    </tr>\n",
       "    <tr>\n",
       "      <th>1</th>\n",
       "      <td>1ZAPwfrtAFY</td>\n",
       "      <td>17.14.11</td>\n",
       "      <td>The Trump Presidency: Last Week Tonight with J...</td>\n",
       "      <td>LastWeekTonight</td>\n",
       "      <td>24</td>\n",
       "      <td>2017-11-13T07:30:00.000Z</td>\n",
       "      <td>last week tonight trump presidency|\"last week ...</td>\n",
       "      <td>2418783</td>\n",
       "      <td>97185</td>\n",
       "      <td>6146</td>\n",
       "      <td>12703</td>\n",
       "      <td>https://i.ytimg.com/vi/1ZAPwfrtAFY/default.jpg</td>\n",
       "      <td>False</td>\n",
       "      <td>False</td>\n",
       "      <td>False</td>\n",
       "      <td>One year after the presidential election, John...</td>\n",
       "    </tr>\n",
       "    <tr>\n",
       "      <th>2</th>\n",
       "      <td>5qpjK5DgCt4</td>\n",
       "      <td>17.14.11</td>\n",
       "      <td>Racist Superman | Rudy Mancuso, King Bach &amp; Le...</td>\n",
       "      <td>Rudy Mancuso</td>\n",
       "      <td>23</td>\n",
       "      <td>2017-11-12T19:05:24.000Z</td>\n",
       "      <td>racist superman|\"rudy\"|\"mancuso\"|\"king\"|\"bach\"...</td>\n",
       "      <td>3191434</td>\n",
       "      <td>146033</td>\n",
       "      <td>5339</td>\n",
       "      <td>8181</td>\n",
       "      <td>https://i.ytimg.com/vi/5qpjK5DgCt4/default.jpg</td>\n",
       "      <td>False</td>\n",
       "      <td>False</td>\n",
       "      <td>False</td>\n",
       "      <td>WATCH MY PREVIOUS VIDEO â¶ \\n\\nSUBSCRIBE âº ...</td>\n",
       "    </tr>\n",
       "    <tr>\n",
       "      <th>3</th>\n",
       "      <td>puqaWrEC7tY</td>\n",
       "      <td>17.14.11</td>\n",
       "      <td>Nickelback Lyrics: Real or Fake?</td>\n",
       "      <td>Good Mythical Morning</td>\n",
       "      <td>24</td>\n",
       "      <td>2017-11-13T11:00:04.000Z</td>\n",
       "      <td>rhett and link|\"gmm\"|\"good mythical morning\"|\"...</td>\n",
       "      <td>343168</td>\n",
       "      <td>10172</td>\n",
       "      <td>666</td>\n",
       "      <td>2146</td>\n",
       "      <td>https://i.ytimg.com/vi/puqaWrEC7tY/default.jpg</td>\n",
       "      <td>False</td>\n",
       "      <td>False</td>\n",
       "      <td>False</td>\n",
       "      <td>Today we find out if Link is a Nickelback amat...</td>\n",
       "    </tr>\n",
       "    <tr>\n",
       "      <th>4</th>\n",
       "      <td>d380meD0W0M</td>\n",
       "      <td>17.14.11</td>\n",
       "      <td>I Dare You: GOING BALD!?</td>\n",
       "      <td>nigahiga</td>\n",
       "      <td>24</td>\n",
       "      <td>2017-11-12T18:01:41.000Z</td>\n",
       "      <td>ryan|\"higa\"|\"higatv\"|\"nigahiga\"|\"i dare you\"|\"...</td>\n",
       "      <td>2095731</td>\n",
       "      <td>132235</td>\n",
       "      <td>1989</td>\n",
       "      <td>17518</td>\n",
       "      <td>https://i.ytimg.com/vi/d380meD0W0M/default.jpg</td>\n",
       "      <td>False</td>\n",
       "      <td>False</td>\n",
       "      <td>False</td>\n",
       "      <td>I know it's been a while since we did this sho...</td>\n",
       "    </tr>\n",
       "  </tbody>\n",
       "</table>\n",
       "</div>"
      ],
      "text/plain": [
       "      video_id trending_date  \\\n",
       "0  2kyS6SvSYSE      17.14.11   \n",
       "1  1ZAPwfrtAFY      17.14.11   \n",
       "2  5qpjK5DgCt4      17.14.11   \n",
       "3  puqaWrEC7tY      17.14.11   \n",
       "4  d380meD0W0M      17.14.11   \n",
       "\n",
       "                                               title          channel_title  \\\n",
       "0                 WE WANT TO TALK ABOUT OUR MARRIAGE           CaseyNeistat   \n",
       "1  The Trump Presidency: Last Week Tonight with J...        LastWeekTonight   \n",
       "2  Racist Superman | Rudy Mancuso, King Bach & Le...           Rudy Mancuso   \n",
       "3                   Nickelback Lyrics: Real or Fake?  Good Mythical Morning   \n",
       "4                           I Dare You: GOING BALD!?               nigahiga   \n",
       "\n",
       "   category_id              publish_time  \\\n",
       "0           22  2017-11-13T17:13:01.000Z   \n",
       "1           24  2017-11-13T07:30:00.000Z   \n",
       "2           23  2017-11-12T19:05:24.000Z   \n",
       "3           24  2017-11-13T11:00:04.000Z   \n",
       "4           24  2017-11-12T18:01:41.000Z   \n",
       "\n",
       "                                                tags    views   likes  \\\n",
       "0                                    SHANtell martin   748374   57527   \n",
       "1  last week tonight trump presidency|\"last week ...  2418783   97185   \n",
       "2  racist superman|\"rudy\"|\"mancuso\"|\"king\"|\"bach\"...  3191434  146033   \n",
       "3  rhett and link|\"gmm\"|\"good mythical morning\"|\"...   343168   10172   \n",
       "4  ryan|\"higa\"|\"higatv\"|\"nigahiga\"|\"i dare you\"|\"...  2095731  132235   \n",
       "\n",
       "   dislikes  comment_count                                  thumbnail_link  \\\n",
       "0      2966          15954  https://i.ytimg.com/vi/2kyS6SvSYSE/default.jpg   \n",
       "1      6146          12703  https://i.ytimg.com/vi/1ZAPwfrtAFY/default.jpg   \n",
       "2      5339           8181  https://i.ytimg.com/vi/5qpjK5DgCt4/default.jpg   \n",
       "3       666           2146  https://i.ytimg.com/vi/puqaWrEC7tY/default.jpg   \n",
       "4      1989          17518  https://i.ytimg.com/vi/d380meD0W0M/default.jpg   \n",
       "\n",
       "   comments_disabled  ratings_disabled  video_error_or_removed  \\\n",
       "0              False             False                   False   \n",
       "1              False             False                   False   \n",
       "2              False             False                   False   \n",
       "3              False             False                   False   \n",
       "4              False             False                   False   \n",
       "\n",
       "                                         description  \n",
       "0  SHANTELL'S CHANNEL - https://www.youtube.com/s...  \n",
       "1  One year after the presidential election, John...  \n",
       "2  WATCH MY PREVIOUS VIDEO â¶ \\n\\nSUBSCRIBE âº ...  \n",
       "3  Today we find out if Link is a Nickelback amat...  \n",
       "4  I know it's been a while since we did this sho...  "
      ]
     },
     "execution_count": 144,
     "metadata": {},
     "output_type": "execute_result"
    }
   ],
   "source": [
    "full_df.head(5)"
   ]
  },
  {
   "cell_type": "code",
   "execution_count": 146,
   "id": "2091f381",
   "metadata": {},
   "outputs": [],
   "source": [
    "full_df['category_name'] = full_df['category_id'].map(cat_dicti)"
   ]
  },
  {
   "cell_type": "code",
   "execution_count": 147,
   "id": "e3c17240",
   "metadata": {},
   "outputs": [
    {
     "data": {
      "text/html": [
       "<div>\n",
       "<style scoped>\n",
       "    .dataframe tbody tr th:only-of-type {\n",
       "        vertical-align: middle;\n",
       "    }\n",
       "\n",
       "    .dataframe tbody tr th {\n",
       "        vertical-align: top;\n",
       "    }\n",
       "\n",
       "    .dataframe thead th {\n",
       "        text-align: right;\n",
       "    }\n",
       "</style>\n",
       "<table border=\"1\" class=\"dataframe\">\n",
       "  <thead>\n",
       "    <tr style=\"text-align: right;\">\n",
       "      <th></th>\n",
       "      <th>video_id</th>\n",
       "      <th>trending_date</th>\n",
       "      <th>title</th>\n",
       "      <th>channel_title</th>\n",
       "      <th>category_id</th>\n",
       "      <th>publish_time</th>\n",
       "      <th>tags</th>\n",
       "      <th>views</th>\n",
       "      <th>likes</th>\n",
       "      <th>dislikes</th>\n",
       "      <th>comment_count</th>\n",
       "      <th>thumbnail_link</th>\n",
       "      <th>comments_disabled</th>\n",
       "      <th>ratings_disabled</th>\n",
       "      <th>video_error_or_removed</th>\n",
       "      <th>description</th>\n",
       "      <th>category_name</th>\n",
       "    </tr>\n",
       "  </thead>\n",
       "  <tbody>\n",
       "    <tr>\n",
       "      <th>0</th>\n",
       "      <td>2kyS6SvSYSE</td>\n",
       "      <td>17.14.11</td>\n",
       "      <td>WE WANT TO TALK ABOUT OUR MARRIAGE</td>\n",
       "      <td>CaseyNeistat</td>\n",
       "      <td>22</td>\n",
       "      <td>2017-11-13T17:13:01.000Z</td>\n",
       "      <td>SHANtell martin</td>\n",
       "      <td>748374</td>\n",
       "      <td>57527</td>\n",
       "      <td>2966</td>\n",
       "      <td>15954</td>\n",
       "      <td>https://i.ytimg.com/vi/2kyS6SvSYSE/default.jpg</td>\n",
       "      <td>False</td>\n",
       "      <td>False</td>\n",
       "      <td>False</td>\n",
       "      <td>SHANTELL'S CHANNEL - https://www.youtube.com/s...</td>\n",
       "      <td>People &amp; Blogs</td>\n",
       "    </tr>\n",
       "    <tr>\n",
       "      <th>1</th>\n",
       "      <td>1ZAPwfrtAFY</td>\n",
       "      <td>17.14.11</td>\n",
       "      <td>The Trump Presidency: Last Week Tonight with J...</td>\n",
       "      <td>LastWeekTonight</td>\n",
       "      <td>24</td>\n",
       "      <td>2017-11-13T07:30:00.000Z</td>\n",
       "      <td>last week tonight trump presidency|\"last week ...</td>\n",
       "      <td>2418783</td>\n",
       "      <td>97185</td>\n",
       "      <td>6146</td>\n",
       "      <td>12703</td>\n",
       "      <td>https://i.ytimg.com/vi/1ZAPwfrtAFY/default.jpg</td>\n",
       "      <td>False</td>\n",
       "      <td>False</td>\n",
       "      <td>False</td>\n",
       "      <td>One year after the presidential election, John...</td>\n",
       "      <td>Entertainment</td>\n",
       "    </tr>\n",
       "    <tr>\n",
       "      <th>2</th>\n",
       "      <td>5qpjK5DgCt4</td>\n",
       "      <td>17.14.11</td>\n",
       "      <td>Racist Superman | Rudy Mancuso, King Bach &amp; Le...</td>\n",
       "      <td>Rudy Mancuso</td>\n",
       "      <td>23</td>\n",
       "      <td>2017-11-12T19:05:24.000Z</td>\n",
       "      <td>racist superman|\"rudy\"|\"mancuso\"|\"king\"|\"bach\"...</td>\n",
       "      <td>3191434</td>\n",
       "      <td>146033</td>\n",
       "      <td>5339</td>\n",
       "      <td>8181</td>\n",
       "      <td>https://i.ytimg.com/vi/5qpjK5DgCt4/default.jpg</td>\n",
       "      <td>False</td>\n",
       "      <td>False</td>\n",
       "      <td>False</td>\n",
       "      <td>WATCH MY PREVIOUS VIDEO â¶ \\n\\nSUBSCRIBE âº ...</td>\n",
       "      <td>Comedy</td>\n",
       "    </tr>\n",
       "    <tr>\n",
       "      <th>3</th>\n",
       "      <td>puqaWrEC7tY</td>\n",
       "      <td>17.14.11</td>\n",
       "      <td>Nickelback Lyrics: Real or Fake?</td>\n",
       "      <td>Good Mythical Morning</td>\n",
       "      <td>24</td>\n",
       "      <td>2017-11-13T11:00:04.000Z</td>\n",
       "      <td>rhett and link|\"gmm\"|\"good mythical morning\"|\"...</td>\n",
       "      <td>343168</td>\n",
       "      <td>10172</td>\n",
       "      <td>666</td>\n",
       "      <td>2146</td>\n",
       "      <td>https://i.ytimg.com/vi/puqaWrEC7tY/default.jpg</td>\n",
       "      <td>False</td>\n",
       "      <td>False</td>\n",
       "      <td>False</td>\n",
       "      <td>Today we find out if Link is a Nickelback amat...</td>\n",
       "      <td>Entertainment</td>\n",
       "    </tr>\n",
       "    <tr>\n",
       "      <th>4</th>\n",
       "      <td>d380meD0W0M</td>\n",
       "      <td>17.14.11</td>\n",
       "      <td>I Dare You: GOING BALD!?</td>\n",
       "      <td>nigahiga</td>\n",
       "      <td>24</td>\n",
       "      <td>2017-11-12T18:01:41.000Z</td>\n",
       "      <td>ryan|\"higa\"|\"higatv\"|\"nigahiga\"|\"i dare you\"|\"...</td>\n",
       "      <td>2095731</td>\n",
       "      <td>132235</td>\n",
       "      <td>1989</td>\n",
       "      <td>17518</td>\n",
       "      <td>https://i.ytimg.com/vi/d380meD0W0M/default.jpg</td>\n",
       "      <td>False</td>\n",
       "      <td>False</td>\n",
       "      <td>False</td>\n",
       "      <td>I know it's been a while since we did this sho...</td>\n",
       "      <td>Entertainment</td>\n",
       "    </tr>\n",
       "  </tbody>\n",
       "</table>\n",
       "</div>"
      ],
      "text/plain": [
       "      video_id trending_date  \\\n",
       "0  2kyS6SvSYSE      17.14.11   \n",
       "1  1ZAPwfrtAFY      17.14.11   \n",
       "2  5qpjK5DgCt4      17.14.11   \n",
       "3  puqaWrEC7tY      17.14.11   \n",
       "4  d380meD0W0M      17.14.11   \n",
       "\n",
       "                                               title          channel_title  \\\n",
       "0                 WE WANT TO TALK ABOUT OUR MARRIAGE           CaseyNeistat   \n",
       "1  The Trump Presidency: Last Week Tonight with J...        LastWeekTonight   \n",
       "2  Racist Superman | Rudy Mancuso, King Bach & Le...           Rudy Mancuso   \n",
       "3                   Nickelback Lyrics: Real or Fake?  Good Mythical Morning   \n",
       "4                           I Dare You: GOING BALD!?               nigahiga   \n",
       "\n",
       "   category_id              publish_time  \\\n",
       "0           22  2017-11-13T17:13:01.000Z   \n",
       "1           24  2017-11-13T07:30:00.000Z   \n",
       "2           23  2017-11-12T19:05:24.000Z   \n",
       "3           24  2017-11-13T11:00:04.000Z   \n",
       "4           24  2017-11-12T18:01:41.000Z   \n",
       "\n",
       "                                                tags    views   likes  \\\n",
       "0                                    SHANtell martin   748374   57527   \n",
       "1  last week tonight trump presidency|\"last week ...  2418783   97185   \n",
       "2  racist superman|\"rudy\"|\"mancuso\"|\"king\"|\"bach\"...  3191434  146033   \n",
       "3  rhett and link|\"gmm\"|\"good mythical morning\"|\"...   343168   10172   \n",
       "4  ryan|\"higa\"|\"higatv\"|\"nigahiga\"|\"i dare you\"|\"...  2095731  132235   \n",
       "\n",
       "   dislikes  comment_count                                  thumbnail_link  \\\n",
       "0      2966          15954  https://i.ytimg.com/vi/2kyS6SvSYSE/default.jpg   \n",
       "1      6146          12703  https://i.ytimg.com/vi/1ZAPwfrtAFY/default.jpg   \n",
       "2      5339           8181  https://i.ytimg.com/vi/5qpjK5DgCt4/default.jpg   \n",
       "3       666           2146  https://i.ytimg.com/vi/puqaWrEC7tY/default.jpg   \n",
       "4      1989          17518  https://i.ytimg.com/vi/d380meD0W0M/default.jpg   \n",
       "\n",
       "   comments_disabled  ratings_disabled  video_error_or_removed  \\\n",
       "0              False             False                   False   \n",
       "1              False             False                   False   \n",
       "2              False             False                   False   \n",
       "3              False             False                   False   \n",
       "4              False             False                   False   \n",
       "\n",
       "                                         description   category_name  \n",
       "0  SHANTELL'S CHANNEL - https://www.youtube.com/s...  People & Blogs  \n",
       "1  One year after the presidential election, John...   Entertainment  \n",
       "2  WATCH MY PREVIOUS VIDEO â¶ \\n\\nSUBSCRIBE âº ...          Comedy  \n",
       "3  Today we find out if Link is a Nickelback amat...   Entertainment  \n",
       "4  I know it's been a while since we did this sho...   Entertainment  "
      ]
     },
     "execution_count": 147,
     "metadata": {},
     "output_type": "execute_result"
    }
   ],
   "source": [
    "full_df.head(5)"
   ]
  },
  {
   "cell_type": "code",
   "execution_count": 150,
   "id": "07eabbd6",
   "metadata": {},
   "outputs": [
    {
     "data": {
      "text/plain": [
       "([0, 1, 2, 3, 4, 5, 6, 7, 8, 9, 10, 11, 12, 13, 14, 15, 16, 17],\n",
       " [Text(0, 0, 'People & Blogs'),\n",
       "  Text(1, 0, 'Entertainment'),\n",
       "  Text(2, 0, 'Comedy'),\n",
       "  Text(3, 0, 'Science & Technology'),\n",
       "  Text(4, 0, 'Film & Animation'),\n",
       "  Text(5, 0, 'News & Politics'),\n",
       "  Text(6, 0, 'Sports'),\n",
       "  Text(7, 0, 'Music'),\n",
       "  Text(8, 0, 'Pets & Animals'),\n",
       "  Text(9, 0, 'Education'),\n",
       "  Text(10, 0, 'Howto & Style'),\n",
       "  Text(11, 0, 'Autos & Vehicles'),\n",
       "  Text(12, 0, 'Travel & Events'),\n",
       "  Text(13, 0, 'Gaming'),\n",
       "  Text(14, 0, 'Nonprofits & Activism'),\n",
       "  Text(15, 0, 'Shows'),\n",
       "  Text(16, 0, 'Movies'),\n",
       "  Text(17, 0, 'Trailers')])"
      ]
     },
     "execution_count": 150,
     "metadata": {},
     "output_type": "execute_result"
    },
    {
     "data": {
      "image/png": "[encoded data removed]",
      "text/plain": [
       "<Figure size 640x480 with 1 Axes>"
      ]
     },
     "metadata": {},
     "output_type": "display_data"
    }
   ],
   "source": [
    "sns.boxplot(x='category_name',y='likes',data=full_df)\n",
    "plt.xticks(rotation = 'vertical')"
   ]
  },
  {
   "cell_type": "markdown",
   "id": "7804fac8",
   "metadata": {},
   "source": [
    "8.Wheather the audience is engaged or not"
   ]
  },
  {
   "cell_type": "code",
   "execution_count": 153,
   "id": "87fddaf8",
   "metadata": {},
   "outputs": [],
   "source": [
    "full_df['like_rate'] = (full_df['likes']/full_df['views'])*100\n",
    "full_df['dislike_rate'] = (full_df['dislikes']/full_df['views'])*100\n",
    "full_df['comment_rate'] = (full_df['comment_count']/full_df['views'])*100"
   ]
  },
  {
   "cell_type": "code",
   "execution_count": 154,
   "id": "464b19b7",
   "metadata": {},
   "outputs": [
    {
     "data": {
      "text/plain": [
       "Index(['video_id', 'trending_date', 'title', 'channel_title', 'category_id',\n",
       "       'publish_time', 'tags', 'views', 'likes', 'dislikes', 'comment_count',\n",
       "       'thumbnail_link', 'comments_disabled', 'ratings_disabled',\n",
       "       'video_error_or_removed', 'description', 'category_name', 'like_rate',\n",
       "       'dislike_rate', 'comment_rate'],\n",
       "      dtype='object')"
      ]
     },
     "execution_count": 154,
     "metadata": {},
     "output_type": "execute_result"
    }
   ],
   "source": [
    "full_df.columns"
   ]
  },
  {
   "cell_type": "code",
   "execution_count": 156,
   "id": "fd974560",
   "metadata": {},
   "outputs": [
    {
     "data": {
      "image/png": "[encoded data removed]",
      "text/plain": [
       "<Figure size 800x600 with 1 Axes>"
      ]
     },
     "metadata": {},
     "output_type": "display_data"
    }
   ],
   "source": [
    "plt.figure(figsize=(8,6))\n",
    "sns.boxplot(x = 'category_name',y = 'like_rate', data = full_df)\n",
    "plt.xticks(rotation = 'vertical')\n",
    "plt.show()"
   ]
  },
  {
   "cell_type": "code",
   "execution_count": 157,
   "id": "983416ce",
   "metadata": {},
   "outputs": [
    {
     "data": {
      "image/png": "[encoded data removed]",
      "text/plain": [
       "<Figure size 800x600 with 1 Axes>"
      ]
     },
     "metadata": {},
     "output_type": "display_data"
    }
   ],
   "source": [
    "plt.figure(figsize=(8,6))\n",
    "sns.boxplot(x = 'category_name',y = 'dislike_rate', data = full_df)\n",
    "plt.xticks(rotation = 'vertical')\n",
    "plt.show()"
   ]
  },
  {
   "cell_type": "code",
   "execution_count": 158,
   "id": "c6ba0897",
   "metadata": {},
   "outputs": [
    {
     "data": {
      "text/plain": [
       "<Axes: xlabel='views', ylabel='likes'>"
      ]
     },
     "execution_count": 158,
     "metadata": {},
     "output_type": "execute_result"
    },
    {
     "data": {
      "image/png": "[encoded data removed]",
      "text/plain": [
       "<Figure size 640x480 with 1 Axes>"
      ]
     },
     "metadata": {},
     "output_type": "display_data"
    }
   ],
   "source": [
    "sns.regplot(x = 'views' , y = 'likes' , data = full_df)"
   ]
  },
  {
   "cell_type": "code",
   "execution_count": 162,
   "id": "cace21ea",
   "metadata": {},
   "outputs": [
    {
     "data": {
      "text/html": [
       "<div>\n",
       "<style scoped>\n",
       "    .dataframe tbody tr th:only-of-type {\n",
       "        vertical-align: middle;\n",
       "    }\n",
       "\n",
       "    .dataframe tbody tr th {\n",
       "        vertical-align: top;\n",
       "    }\n",
       "\n",
       "    .dataframe thead th {\n",
       "        text-align: right;\n",
       "    }\n",
       "</style>\n",
       "<table border=\"1\" class=\"dataframe\">\n",
       "  <thead>\n",
       "    <tr style=\"text-align: right;\">\n",
       "      <th></th>\n",
       "      <th>views</th>\n",
       "      <th>likes</th>\n",
       "      <th>dislikes</th>\n",
       "    </tr>\n",
       "  </thead>\n",
       "  <tbody>\n",
       "    <tr>\n",
       "      <th>views</th>\n",
       "      <td>1.000000</td>\n",
       "      <td>0.779531</td>\n",
       "      <td>0.405428</td>\n",
       "    </tr>\n",
       "    <tr>\n",
       "      <th>likes</th>\n",
       "      <td>0.779531</td>\n",
       "      <td>1.000000</td>\n",
       "      <td>0.451809</td>\n",
       "    </tr>\n",
       "    <tr>\n",
       "      <th>dislikes</th>\n",
       "      <td>0.405428</td>\n",
       "      <td>0.451809</td>\n",
       "      <td>1.000000</td>\n",
       "    </tr>\n",
       "  </tbody>\n",
       "</table>\n",
       "</div>"
      ],
      "text/plain": [
       "             views     likes  dislikes\n",
       "views     1.000000  0.779531  0.405428\n",
       "likes     0.779531  1.000000  0.451809\n",
       "dislikes  0.405428  0.451809  1.000000"
      ]
     },
     "execution_count": 162,
     "metadata": {},
     "output_type": "execute_result"
    }
   ],
   "source": [
    "full_df[['views','likes','dislikes']].corr()"
   ]
  },
  {
   "cell_type": "code",
   "execution_count": 164,
   "id": "b484e4ab",
   "metadata": {},
   "outputs": [
    {
     "data": {
      "text/plain": [
       "<Axes: >"
      ]
     },
     "execution_count": 164,
     "metadata": {},
     "output_type": "execute_result"
    },
    {
     "data": {
      "image/png": "[encoded data removed]",
      "text/plain": [
       "<Figure size 640x480 with 2 Axes>"
      ]
     },
     "metadata": {},
     "output_type": "display_data"
    }
   ],
   "source": [
    "sns.heatmap(full_df[['views','likes','dislikes']].corr(),annot=True)"
   ]
  },
  {
   "cell_type": "markdown",
   "id": "95739cc4",
   "metadata": {},
   "source": [
    "9.Analyzing Trending videos of youtube"
   ]
  },
  {
   "cell_type": "code",
   "execution_count": 165,
   "id": "ecc1340c",
   "metadata": {},
   "outputs": [
    {
     "data": {
      "text/html": [
       "<div>\n",
       "<style scoped>\n",
       "    .dataframe tbody tr th:only-of-type {\n",
       "        vertical-align: middle;\n",
       "    }\n",
       "\n",
       "    .dataframe tbody tr th {\n",
       "        vertical-align: top;\n",
       "    }\n",
       "\n",
       "    .dataframe thead th {\n",
       "        text-align: right;\n",
       "    }\n",
       "</style>\n",
       "<table border=\"1\" class=\"dataframe\">\n",
       "  <thead>\n",
       "    <tr style=\"text-align: right;\">\n",
       "      <th></th>\n",
       "      <th>video_id</th>\n",
       "      <th>trending_date</th>\n",
       "      <th>title</th>\n",
       "      <th>channel_title</th>\n",
       "      <th>category_id</th>\n",
       "      <th>publish_time</th>\n",
       "      <th>tags</th>\n",
       "      <th>views</th>\n",
       "      <th>likes</th>\n",
       "      <th>dislikes</th>\n",
       "      <th>comment_count</th>\n",
       "      <th>thumbnail_link</th>\n",
       "      <th>comments_disabled</th>\n",
       "      <th>ratings_disabled</th>\n",
       "      <th>video_error_or_removed</th>\n",
       "      <th>description</th>\n",
       "      <th>category_name</th>\n",
       "      <th>like_rate</th>\n",
       "      <th>dislike_rate</th>\n",
       "      <th>comment_rate</th>\n",
       "    </tr>\n",
       "  </thead>\n",
       "  <tbody>\n",
       "    <tr>\n",
       "      <th>0</th>\n",
       "      <td>2kyS6SvSYSE</td>\n",
       "      <td>17.14.11</td>\n",
       "      <td>WE WANT TO TALK ABOUT OUR MARRIAGE</td>\n",
       "      <td>CaseyNeistat</td>\n",
       "      <td>22</td>\n",
       "      <td>2017-11-13T17:13:01.000Z</td>\n",
       "      <td>SHANtell martin</td>\n",
       "      <td>748374</td>\n",
       "      <td>57527</td>\n",
       "      <td>2966</td>\n",
       "      <td>15954</td>\n",
       "      <td>https://i.ytimg.com/vi/2kyS6SvSYSE/default.jpg</td>\n",
       "      <td>False</td>\n",
       "      <td>False</td>\n",
       "      <td>False</td>\n",
       "      <td>SHANTELL'S CHANNEL - https://www.youtube.com/s...</td>\n",
       "      <td>People &amp; Blogs</td>\n",
       "      <td>7.686932</td>\n",
       "      <td>0.396326</td>\n",
       "      <td>2.131822</td>\n",
       "    </tr>\n",
       "    <tr>\n",
       "      <th>1</th>\n",
       "      <td>1ZAPwfrtAFY</td>\n",
       "      <td>17.14.11</td>\n",
       "      <td>The Trump Presidency: Last Week Tonight with J...</td>\n",
       "      <td>LastWeekTonight</td>\n",
       "      <td>24</td>\n",
       "      <td>2017-11-13T07:30:00.000Z</td>\n",
       "      <td>last week tonight trump presidency|\"last week ...</td>\n",
       "      <td>2418783</td>\n",
       "      <td>97185</td>\n",
       "      <td>6146</td>\n",
       "      <td>12703</td>\n",
       "      <td>https://i.ytimg.com/vi/1ZAPwfrtAFY/default.jpg</td>\n",
       "      <td>False</td>\n",
       "      <td>False</td>\n",
       "      <td>False</td>\n",
       "      <td>One year after the presidential election, John...</td>\n",
       "      <td>Entertainment</td>\n",
       "      <td>4.017930</td>\n",
       "      <td>0.254095</td>\n",
       "      <td>0.525181</td>\n",
       "    </tr>\n",
       "    <tr>\n",
       "      <th>2</th>\n",
       "      <td>5qpjK5DgCt4</td>\n",
       "      <td>17.14.11</td>\n",
       "      <td>Racist Superman | Rudy Mancuso, King Bach &amp; Le...</td>\n",
       "      <td>Rudy Mancuso</td>\n",
       "      <td>23</td>\n",
       "      <td>2017-11-12T19:05:24.000Z</td>\n",
       "      <td>racist superman|\"rudy\"|\"mancuso\"|\"king\"|\"bach\"...</td>\n",
       "      <td>3191434</td>\n",
       "      <td>146033</td>\n",
       "      <td>5339</td>\n",
       "      <td>8181</td>\n",
       "      <td>https://i.ytimg.com/vi/5qpjK5DgCt4/default.jpg</td>\n",
       "      <td>False</td>\n",
       "      <td>False</td>\n",
       "      <td>False</td>\n",
       "      <td>WATCH MY PREVIOUS VIDEO â¶ \\n\\nSUBSCRIBE âº ...</td>\n",
       "      <td>Comedy</td>\n",
       "      <td>4.575780</td>\n",
       "      <td>0.167292</td>\n",
       "      <td>0.256342</td>\n",
       "    </tr>\n",
       "    <tr>\n",
       "      <th>3</th>\n",
       "      <td>puqaWrEC7tY</td>\n",
       "      <td>17.14.11</td>\n",
       "      <td>Nickelback Lyrics: Real or Fake?</td>\n",
       "      <td>Good Mythical Morning</td>\n",
       "      <td>24</td>\n",
       "      <td>2017-11-13T11:00:04.000Z</td>\n",
       "      <td>rhett and link|\"gmm\"|\"good mythical morning\"|\"...</td>\n",
       "      <td>343168</td>\n",
       "      <td>10172</td>\n",
       "      <td>666</td>\n",
       "      <td>2146</td>\n",
       "      <td>https://i.ytimg.com/vi/puqaWrEC7tY/default.jpg</td>\n",
       "      <td>False</td>\n",
       "      <td>False</td>\n",
       "      <td>False</td>\n",
       "      <td>Today we find out if Link is a Nickelback amat...</td>\n",
       "      <td>Entertainment</td>\n",
       "      <td>2.964146</td>\n",
       "      <td>0.194074</td>\n",
       "      <td>0.625350</td>\n",
       "    </tr>\n",
       "    <tr>\n",
       "      <th>4</th>\n",
       "      <td>d380meD0W0M</td>\n",
       "      <td>17.14.11</td>\n",
       "      <td>I Dare You: GOING BALD!?</td>\n",
       "      <td>nigahiga</td>\n",
       "      <td>24</td>\n",
       "      <td>2017-11-12T18:01:41.000Z</td>\n",
       "      <td>ryan|\"higa\"|\"higatv\"|\"nigahiga\"|\"i dare you\"|\"...</td>\n",
       "      <td>2095731</td>\n",
       "      <td>132235</td>\n",
       "      <td>1989</td>\n",
       "      <td>17518</td>\n",
       "      <td>https://i.ytimg.com/vi/d380meD0W0M/default.jpg</td>\n",
       "      <td>False</td>\n",
       "      <td>False</td>\n",
       "      <td>False</td>\n",
       "      <td>I know it's been a while since we did this sho...</td>\n",
       "      <td>Entertainment</td>\n",
       "      <td>6.309732</td>\n",
       "      <td>0.094907</td>\n",
       "      <td>0.835890</td>\n",
       "    </tr>\n",
       "  </tbody>\n",
       "</table>\n",
       "</div>"
      ],
      "text/plain": [
       "      video_id trending_date  \\\n",
       "0  2kyS6SvSYSE      17.14.11   \n",
       "1  1ZAPwfrtAFY      17.14.11   \n",
       "2  5qpjK5DgCt4      17.14.11   \n",
       "3  puqaWrEC7tY      17.14.11   \n",
       "4  d380meD0W0M      17.14.11   \n",
       "\n",
       "                                               title          channel_title  \\\n",
       "0                 WE WANT TO TALK ABOUT OUR MARRIAGE           CaseyNeistat   \n",
       "1  The Trump Presidency: Last Week Tonight with J...        LastWeekTonight   \n",
       "2  Racist Superman | Rudy Mancuso, King Bach & Le...           Rudy Mancuso   \n",
       "3                   Nickelback Lyrics: Real or Fake?  Good Mythical Morning   \n",
       "4                           I Dare You: GOING BALD!?               nigahiga   \n",
       "\n",
       "   category_id              publish_time  \\\n",
       "0           22  2017-11-13T17:13:01.000Z   \n",
       "1           24  2017-11-13T07:30:00.000Z   \n",
       "2           23  2017-11-12T19:05:24.000Z   \n",
       "3           24  2017-11-13T11:00:04.000Z   \n",
       "4           24  2017-11-12T18:01:41.000Z   \n",
       "\n",
       "                                                tags    views   likes  \\\n",
       "0                                    SHANtell martin   748374   57527   \n",
       "1  last week tonight trump presidency|\"last week ...  2418783   97185   \n",
       "2  racist superman|\"rudy\"|\"mancuso\"|\"king\"|\"bach\"...  3191434  146033   \n",
       "3  rhett and link|\"gmm\"|\"good mythical morning\"|\"...   343168   10172   \n",
       "4  ryan|\"higa\"|\"higatv\"|\"nigahiga\"|\"i dare you\"|\"...  2095731  132235   \n",
       "\n",
       "   dislikes  comment_count                                  thumbnail_link  \\\n",
       "0      2966          15954  https://i.ytimg.com/vi/2kyS6SvSYSE/default.jpg   \n",
       "1      6146          12703  https://i.ytimg.com/vi/1ZAPwfrtAFY/default.jpg   \n",
       "2      5339           8181  https://i.ytimg.com/vi/5qpjK5DgCt4/default.jpg   \n",
       "3       666           2146  https://i.ytimg.com/vi/puqaWrEC7tY/default.jpg   \n",
       "4      1989          17518  https://i.ytimg.com/vi/d380meD0W0M/default.jpg   \n",
       "\n",
       "   comments_disabled  ratings_disabled  video_error_or_removed  \\\n",
       "0              False             False                   False   \n",
       "1              False             False                   False   \n",
       "2              False             False                   False   \n",
       "3              False             False                   False   \n",
       "4              False             False                   False   \n",
       "\n",
       "                                         description   category_name  \\\n",
       "0  SHANTELL'S CHANNEL - https://www.youtube.com/s...  People & Blogs   \n",
       "1  One year after the presidential election, John...   Entertainment   \n",
       "2  WATCH MY PREVIOUS VIDEO â¶ \\n\\nSUBSCRIBE âº ...          Comedy   \n",
       "3  Today we find out if Link is a Nickelback amat...   Entertainment   \n",
       "4  I know it's been a while since we did this sho...   Entertainment   \n",
       "\n",
       "   like_rate  dislike_rate  comment_rate  \n",
       "0   7.686932      0.396326      2.131822  \n",
       "1   4.017930      0.254095      0.525181  \n",
       "2   4.575780      0.167292      0.256342  \n",
       "3   2.964146      0.194074      0.625350  \n",
       "4   6.309732      0.094907      0.835890  "
      ]
     },
     "execution_count": 165,
     "metadata": {},
     "output_type": "execute_result"
    }
   ],
   "source": [
    "full_df.head(5)"
   ]
  },
  {
   "cell_type": "code",
   "execution_count": 170,
   "id": "451c6251",
   "metadata": {},
   "outputs": [],
   "source": [
    "cdf = full_df['channel_title'].value_counts().reset_index()"
   ]
  },
  {
   "cell_type": "code",
   "execution_count": 171,
   "id": "fd673910",
   "metadata": {},
   "outputs": [
    {
     "data": {
      "text/html": [
       "<div>\n",
       "<style scoped>\n",
       "    .dataframe tbody tr th:only-of-type {\n",
       "        vertical-align: middle;\n",
       "    }\n",
       "\n",
       "    .dataframe tbody tr th {\n",
       "        vertical-align: top;\n",
       "    }\n",
       "\n",
       "    .dataframe thead th {\n",
       "        text-align: right;\n",
       "    }\n",
       "</style>\n",
       "<table border=\"1\" class=\"dataframe\">\n",
       "  <thead>\n",
       "    <tr style=\"text-align: right;\">\n",
       "      <th></th>\n",
       "      <th>channel_title</th>\n",
       "      <th>count</th>\n",
       "    </tr>\n",
       "  </thead>\n",
       "  <tbody>\n",
       "    <tr>\n",
       "      <th>0</th>\n",
       "      <td>The Late Show with Stephen Colbert</td>\n",
       "      <td>710</td>\n",
       "    </tr>\n",
       "    <tr>\n",
       "      <th>1</th>\n",
       "      <td>WWE</td>\n",
       "      <td>643</td>\n",
       "    </tr>\n",
       "    <tr>\n",
       "      <th>2</th>\n",
       "      <td>Late Night with Seth Meyers</td>\n",
       "      <td>592</td>\n",
       "    </tr>\n",
       "    <tr>\n",
       "      <th>3</th>\n",
       "      <td>TheEllenShow</td>\n",
       "      <td>555</td>\n",
       "    </tr>\n",
       "    <tr>\n",
       "      <th>4</th>\n",
       "      <td>Jimmy Kimmel Live</td>\n",
       "      <td>528</td>\n",
       "    </tr>\n",
       "    <tr>\n",
       "      <th>...</th>\n",
       "      <td>...</td>\n",
       "      <td>...</td>\n",
       "    </tr>\n",
       "    <tr>\n",
       "      <th>37819</th>\n",
       "      <td>ã¸ã£ãã¼ãºJr.ã®é­åããä¸çã«çºä...</td>\n",
       "      <td>1</td>\n",
       "    </tr>\n",
       "    <tr>\n",
       "      <th>37820</th>\n",
       "      <td>Spachi</td>\n",
       "      <td>1</td>\n",
       "    </tr>\n",
       "    <tr>\n",
       "      <th>37821</th>\n",
       "      <td>ã©ã¸ãªæ·±å¤ä¾¿2</td>\n",
       "      <td>1</td>\n",
       "    </tr>\n",
       "    <tr>\n",
       "      <th>37822</th>\n",
       "      <td>Manga Japan</td>\n",
       "      <td>1</td>\n",
       "    </tr>\n",
       "    <tr>\n",
       "      <th>37823</th>\n",
       "      <td>SevenSuperGirls</td>\n",
       "      <td>1</td>\n",
       "    </tr>\n",
       "  </tbody>\n",
       "</table>\n",
       "<p>37824 rows × 2 columns</p>\n",
       "</div>"
      ],
      "text/plain": [
       "                                           channel_title  count\n",
       "0                     The Late Show with Stephen Colbert    710\n",
       "1                                                    WWE    643\n",
       "2                            Late Night with Seth Meyers    592\n",
       "3                                           TheEllenShow    555\n",
       "4                                      Jimmy Kimmel Live    528\n",
       "...                                                  ...    ...\n",
       "37819  ã¸ã£ãã¼ãºJr.ã®é­\n",
       "åããä¸çã«çºä...      1\n",
       "37820                                             Spachi      1\n",
       "37821                                ã©ã¸ãªæ·±å¤ä¾¿2      1\n",
       "37822                                        Manga Japan      1\n",
       "37823                                    SevenSuperGirls      1\n",
       "\n",
       "[37824 rows x 2 columns]"
      ]
     },
     "execution_count": 171,
     "metadata": {},
     "output_type": "execute_result"
    }
   ],
   "source": [
    "cdf"
   ]
  },
  {
   "cell_type": "code",
   "execution_count": 177,
   "id": "20ecfaa4",
   "metadata": {},
   "outputs": [],
   "source": [
    "cdf = cdf.rename(columns ={'count':'total_videos'})"
   ]
  },
  {
   "cell_type": "code",
   "execution_count": 175,
   "id": "f504dfd7",
   "metadata": {},
   "outputs": [],
   "source": [
    "import plotly.express as px"
   ]
  },
  {
   "cell_type": "code",
   "execution_count": 178,
   "id": "ae4b8634",
   "metadata": {},
   "outputs": [
    {
     "data": {
      "application/vnd.plotly.v1+json": {
       "config": {
        "plotlyServerURL": "https://plot.ly"
       },
       "data": [
        {
         "alignmentgroup": "True",
         "hovertemplate": "channel_title=%{x}<br>total_videos=%{y}<extra></extra>",
         "legendgroup": "",
         "marker": {
          "color": "#636efa",
          "pattern": {
           "shape": ""
          }
         },
         "name": "",
         "offsetgroup": "",
         "orientation": "v",
         "showlegend": false,
         "textposition": "auto",
         "type": "bar",
         "x": [
          "The Late Show with Stephen Colbert",
          "WWE",
          "Late Night with Seth Meyers",
          "TheEllenShow",
          "Jimmy Kimmel Live",
          "PewDiePie",
          "The Tonight Show Starring Jimmy Fallon",
          "CNN",
          "The Late Late Show with James Corden",
          "ESPN",
          "FBE",
          "VikatanTV",
          "Netflix",
          "SET India",
          "MLG Highlights",
          "BuzzFeedVideo",
          "SMTOWN",
          "Ãukur",
          "Marvel Entertainment",
          "SAB TV"
         ],
         "xaxis": "x",
         "y": [
          710,
          643,
          592,
          555,
          528,
          511,
          509,
          500,
          453,
          452,
          439,
          435,
          410,
          405,
          382,
          361,
          359,
          356,
          352,
          351
         ],
         "yaxis": "y"
        }
       ],
       "layout": {
        "barmode": "relative",
        "legend": {
         "tracegroupgap": 0
        },
        "margin": {
         "t": 60
        },
        "template": {
         "data": {
          "bar": [
           {
            "error_x": {
             "color": "#2a3f5f"
            },
            "error_y": {
             "color": "#2a3f5f"
            },
            "marker": {
             "line": {
              "color": "#E5ECF6",
              "width": 0.5
             },
             "pattern": {
              "fillmode": "overlay",
              "size": 10,
              "solidity": 0.2
             }
            },
            "type": "bar"
           }
          ],
          "barpolar": [
           {
            "marker": {
             "line": {
              "color": "#E5ECF6",
              "width": 0.5
             },
             "pattern": {
              "fillmode": "overlay",
              "size": 10,
              "solidity": 0.2
             }
            },
            "type": "barpolar"
           }
          ],
          "carpet": [
           {
            "aaxis": {
             "endlinecolor": "#2a3f5f",
             "gridcolor": "white",
             "linecolor": "white",
             "minorgridcolor": "white",
             "startlinecolor": "#2a3f5f"
            },
            "baxis": {
             "endlinecolor": "#2a3f5f",
             "gridcolor": "white",
             "linecolor": "white",
             "minorgridcolor": "white",
             "startlinecolor": "#2a3f5f"
            },
            "type": "carpet"
           }
          ],
          "choropleth": [
           {
            "colorbar": {
             "outlinewidth": 0,
             "ticks": ""
            },
            "type": "choropleth"
           }
          ],
          "contour": [
           {
            "colorbar": {
             "outlinewidth": 0,
             "ticks": ""
            },
            "colorscale": [
             [
              0,
              "#0d0887"
             ],
             [
              0.1111111111111111,
              "#46039f"
             ],
             [
              0.2222222222222222,
              "#7201a8"
             ],
             [
              0.3333333333333333,
              "#9c179e"
             ],
             [
              0.4444444444444444,
              "#bd3786"
             ],
             [
              0.5555555555555556,
              "#d8576b"
             ],
             [
              0.6666666666666666,
              "#ed7953"
             ],
             [
              0.7777777777777778,
              "#fb9f3a"
             ],
             [
              0.8888888888888888,
              "#fdca26"
             ],
             [
              1,
              "#f0f921"
             ]
            ],
            "type": "contour"
           }
          ],
          "contourcarpet": [
           {
            "colorbar": {
             "outlinewidth": 0,
             "ticks": ""
            },
            "type": "contourcarpet"
           }
          ],
          "heatmap": [
           {
            "colorbar": {
             "outlinewidth": 0,
             "ticks": ""
            },
            "colorscale": [
             [
              0,
              "#0d0887"
             ],
             [
              0.1111111111111111,
              "#46039f"
             ],
             [
              0.2222222222222222,
              "#7201a8"
             ],
             [
              0.3333333333333333,
              "#9c179e"
             ],
             [
              0.4444444444444444,
              "#bd3786"
             ],
             [
              0.5555555555555556,
              "#d8576b"
             ],
             [
              0.6666666666666666,
              "#ed7953"
             ],
             [
              0.7777777777777778,
              "#fb9f3a"
             ],
             [
              0.8888888888888888,
              "#fdca26"
             ],
             [
              1,
              "#f0f921"
             ]
            ],
            "type": "heatmap"
           }
          ],
          "heatmapgl": [
           {
            "colorbar": {
             "outlinewidth": 0,
             "ticks": ""
            },
            "colorscale": [
             [
              0,
              "#0d0887"
             ],
             [
              0.1111111111111111,
              "#46039f"
             ],
             [
              0.2222222222222222,
              "#7201a8"
             ],
             [
              0.3333333333333333,
              "#9c179e"
             ],
             [
              0.4444444444444444,
              "#bd3786"
             ],
             [
              0.5555555555555556,
              "#d8576b"
             ],
             [
              0.6666666666666666,
              "#ed7953"
             ],
             [
              0.7777777777777778,
              "#fb9f3a"
             ],
             [
              0.8888888888888888,
              "#fdca26"
             ],
             [
              1,
              "#f0f921"
             ]
            ],
            "type": "heatmapgl"
           }
          ],
          "histogram": [
           {
            "marker": {
             "pattern": {
              "fillmode": "overlay",
              "size": 10,
              "solidity": 0.2
             }
            },
            "type": "histogram"
           }
          ],
          "histogram2d": [
           {
            "colorbar": {
             "outlinewidth": 0,
             "ticks": ""
            },
            "colorscale": [
             [
              0,
              "#0d0887"
             ],
             [
              0.1111111111111111,
              "#46039f"
             ],
             [
              0.2222222222222222,
              "#7201a8"
             ],
             [
              0.3333333333333333,
              "#9c179e"
             ],
             [
              0.4444444444444444,
              "#bd3786"
             ],
             [
              0.5555555555555556,
              "#d8576b"
             ],
             [
              0.6666666666666666,
              "#ed7953"
             ],
             [
              0.7777777777777778,
              "#fb9f3a"
             ],
             [
              0.8888888888888888,
              "#fdca26"
             ],
             [
              1,
              "#f0f921"
             ]
            ],
            "type": "histogram2d"
           }
          ],
          "histogram2dcontour": [
           {
            "colorbar": {
             "outlinewidth": 0,
             "ticks": ""
            },
            "colorscale": [
             [
              0,
              "#0d0887"
             ],
             [
              0.1111111111111111,
              "#46039f"
             ],
             [
              0.2222222222222222,
              "#7201a8"
             ],
             [
              0.3333333333333333,
              "#9c179e"
             ],
             [
              0.4444444444444444,
              "#bd3786"
             ],
             [
              0.5555555555555556,
              "#d8576b"
             ],
             [
              0.6666666666666666,
              "#ed7953"
             ],
             [
              0.7777777777777778,
              "#fb9f3a"
             ],
             [
              0.8888888888888888,
              "#fdca26"
             ],
             [
              1,
              "#f0f921"
             ]
            ],
            "type": "histogram2dcontour"
           }
          ],
          "mesh3d": [
           {
            "colorbar": {
             "outlinewidth": 0,
             "ticks": ""
            },
            "type": "mesh3d"
           }
          ],
          "parcoords": [
           {
            "line": {
             "colorbar": {
              "outlinewidth": 0,
              "ticks": ""
             }
            },
            "type": "parcoords"
           }
          ],
          "pie": [
           {
            "automargin": true,
            "type": "pie"
           }
          ],
          "scatter": [
           {
            "fillpattern": {
             "fillmode": "overlay",
             "size": 10,
             "solidity": 0.2
            },
            "type": "scatter"
           }
          ],
          "scatter3d": [
           {
            "line": {
             "colorbar": {
              "outlinewidth": 0,
              "ticks": ""
             }
            },
            "marker": {
             "colorbar": {
              "outlinewidth": 0,
              "ticks": ""
             }
            },
            "type": "scatter3d"
           }
          ],
          "scattercarpet": [
           {
            "marker": {
             "colorbar": {
              "outlinewidth": 0,
              "ticks": ""
             }
            },
            "type": "scattercarpet"
           }
          ],
          "scattergeo": [
           {
            "marker": {
             "colorbar": {
              "outlinewidth": 0,
              "ticks": ""
             }
            },
            "type": "scattergeo"
           }
          ],
          "scattergl": [
           {
            "marker": {
             "colorbar": {
              "outlinewidth": 0,
              "ticks": ""
             }
            },
            "type": "scattergl"
           }
          ],
          "scattermapbox": [
           {
            "marker": {
             "colorbar": {
              "outlinewidth": 0,
              "ticks": ""
             }
            },
            "type": "scattermapbox"
           }
          ],
          "scatterpolar": [
           {
            "marker": {
             "colorbar": {
              "outlinewidth": 0,
              "ticks": ""
             }
            },
            "type": "scatterpolar"
           }
          ],
          "scatterpolargl": [
           {
            "marker": {
             "colorbar": {
              "outlinewidth": 0,
              "ticks": ""
             }
            },
            "type": "scatterpolargl"
           }
          ],
          "scatterternary": [
           {
            "marker": {
             "colorbar": {
              "outlinewidth": 0,
              "ticks": ""
             }
            },
            "type": "scatterternary"
           }
          ],
          "surface": [
           {
            "colorbar": {
             "outlinewidth": 0,
             "ticks": ""
            },
            "colorscale": [
             [
              0,
              "#0d0887"
             ],
             [
              0.1111111111111111,
              "#46039f"
             ],
             [
              0.2222222222222222,
              "#7201a8"
             ],
             [
              0.3333333333333333,
              "#9c179e"
             ],
             [
              0.4444444444444444,
              "#bd3786"
             ],
             [
              0.5555555555555556,
              "#d8576b"
             ],
             [
              0.6666666666666666,
              "#ed7953"
             ],
             [
              0.7777777777777778,
              "#fb9f3a"
             ],
             [
              0.8888888888888888,
              "#fdca26"
             ],
             [
              1,
              "#f0f921"
             ]
            ],
            "type": "surface"
           }
          ],
          "table": [
           {
            "cells": {
             "fill": {
              "color": "#EBF0F8"
             },
             "line": {
              "color": "white"
             }
            },
            "header": {
             "fill": {
              "color": "#C8D4E3"
             },
             "line": {
              "color": "white"
             }
            },
            "type": "table"
           }
          ]
         },
         "layout": {
          "annotationdefaults": {
           "arrowcolor": "#2a3f5f",
           "arrowhead": 0,
           "arrowwidth": 1
          },
          "autotypenumbers": "strict",
          "coloraxis": {
           "colorbar": {
            "outlinewidth": 0,
            "ticks": ""
           }
          },
          "colorscale": {
           "diverging": [
            [
             0,
             "#8e0152"
            ],
            [
             0.1,
             "#c51b7d"
            ],
            [
             0.2,
             "#de77ae"
            ],
            [
             0.3,
             "#f1b6da"
            ],
            [
             0.4,
             "#fde0ef"
            ],
            [
             0.5,
             "#f7f7f7"
            ],
            [
             0.6,
             "#e6f5d0"
            ],
            [
             0.7,
             "#b8e186"
            ],
            [
             0.8,
             "#7fbc41"
            ],
            [
             0.9,
             "#4d9221"
            ],
            [
             1,
             "#276419"
            ]
           ],
           "sequential": [
            [
             0,
             "#0d0887"
            ],
            [
             0.1111111111111111,
             "#46039f"
            ],
            [
             0.2222222222222222,
             "#7201a8"
            ],
            [
             0.3333333333333333,
             "#9c179e"
            ],
            [
             0.4444444444444444,
             "#bd3786"
            ],
            [
             0.5555555555555556,
             "#d8576b"
            ],
            [
             0.6666666666666666,
             "#ed7953"
            ],
            [
             0.7777777777777778,
             "#fb9f3a"
            ],
            [
             0.8888888888888888,
             "#fdca26"
            ],
            [
             1,
             "#f0f921"
            ]
           ],
           "sequentialminus": [
            [
             0,
             "#0d0887"
            ],
            [
             0.1111111111111111,
             "#46039f"
            ],
            [
             0.2222222222222222,
             "#7201a8"
            ],
            [
             0.3333333333333333,
             "#9c179e"
            ],
            [
             0.4444444444444444,
             "#bd3786"
            ],
            [
             0.5555555555555556,
             "#d8576b"
            ],
            [
             0.6666666666666666,
             "#ed7953"
            ],
            [
             0.7777777777777778,
             "#fb9f3a"
            ],
            [
             0.8888888888888888,
             "#fdca26"
            ],
            [
             1,
             "#f0f921"
            ]
           ]
          },
          "colorway": [
           "#636efa",
           "#EF553B",
           "#00cc96",
           "#ab63fa",
           "#FFA15A",
           "#19d3f3",
           "#FF6692",
           "#B6E880",
           "#FF97FF",
           "#FECB52"
          ],
          "font": {
           "color": "#2a3f5f"
          },
          "geo": {
           "bgcolor": "white",
           "lakecolor": "white",
           "landcolor": "#E5ECF6",
           "showlakes": true,
           "showland": true,
           "subunitcolor": "white"
          },
          "hoverlabel": {
           "align": "left"
          },
          "hovermode": "closest",
          "mapbox": {
           "style": "light"
          },
          "paper_bgcolor": "white",
          "plot_bgcolor": "#E5ECF6",
          "polar": {
           "angularaxis": {
            "gridcolor": "white",
            "linecolor": "white",
            "ticks": ""
           },
           "bgcolor": "#E5ECF6",
           "radialaxis": {
            "gridcolor": "white",
            "linecolor": "white",
            "ticks": ""
           }
          },
          "scene": {
           "xaxis": {
            "backgroundcolor": "#E5ECF6",
            "gridcolor": "white",
            "gridwidth": 2,
            "linecolor": "white",
            "showbackground": true,
            "ticks": "",
            "zerolinecolor": "white"
           },
           "yaxis": {
            "backgroundcolor": "#E5ECF6",
            "gridcolor": "white",
            "gridwidth": 2,
            "linecolor": "white",
            "showbackground": true,
            "ticks": "",
            "zerolinecolor": "white"
           },
           "zaxis": {
            "backgroundcolor": "#E5ECF6",
            "gridcolor": "white",
            "gridwidth": 2,
            "linecolor": "white",
            "showbackground": true,
            "ticks": "",
            "zerolinecolor": "white"
           }
          },
          "shapedefaults": {
           "line": {
            "color": "#2a3f5f"
           }
          },
          "ternary": {
           "aaxis": {
            "gridcolor": "white",
            "linecolor": "white",
            "ticks": ""
           },
           "baxis": {
            "gridcolor": "white",
            "linecolor": "white",
            "ticks": ""
           },
           "bgcolor": "#E5ECF6",
           "caxis": {
            "gridcolor": "white",
            "linecolor": "white",
            "ticks": ""
           }
          },
          "title": {
           "x": 0.05
          },
          "xaxis": {
           "automargin": true,
           "gridcolor": "white",
           "linecolor": "white",
           "ticks": "",
           "title": {
            "standoff": 15
           },
           "zerolinecolor": "white",
           "zerolinewidth": 2
          },
          "yaxis": {
           "automargin": true,
           "gridcolor": "white",
           "linecolor": "white",
           "ticks": "",
           "title": {
            "standoff": 15
           },
           "zerolinecolor": "white",
           "zerolinewidth": 2
          }
         }
        },
        "xaxis": {
         "anchor": "y",
         "domain": [
          0,
          1
         ],
         "title": {
          "text": "channel_title"
         }
        },
        "yaxis": {
         "anchor": "x",
         "domain": [
          0,
          1
         ],
         "title": {
          "text": "total_videos"
         }
        }
       }
      }
     },
     "metadata": {},
     "output_type": "display_data"
    }
   ],
   "source": [
    "px.bar(data_frame = cdf[0:20], x = 'channel_title', y = 'total_videos')"
   ]
  },
  {
   "cell_type": "markdown",
   "id": "a80f0839",
   "metadata": {},
   "source": [
    "10.Does punctuations afftect the views and likes "
   ]
  },
  {
   "cell_type": "code",
   "execution_count": 181,
   "id": "9396c978",
   "metadata": {},
   "outputs": [
    {
     "data": {
      "text/plain": [
       "0                        WE WANT TO TALK ABOUT OUR MARRIAGE\n",
       "1         The Trump Presidency: Last Week Tonight with J...\n",
       "2         Racist Superman | Rudy Mancuso, King Bach & Le...\n",
       "3                          Nickelback Lyrics: Real or Fake?\n",
       "4                                  I Dare You: GOING BALD!?\n",
       "                                ...                        \n",
       "375937                         HOW2: How to Solve a Mystery\n",
       "375938                     Eli Lik Lik Episode 13 Partie 01\n",
       "375939    KINGDOM HEARTS III â SQUARE ENIX E3 SHOWCASE...\n",
       "375940                     Trump Advisor Grovels To Trudeau\n",
       "375941    ãå®æ´çãéå°æææ\n",
       "äººè©²æéº¼è¾¦ï...\n",
       "Name: title, Length: 339525, dtype: object"
      ]
     },
     "execution_count": 181,
     "metadata": {},
     "output_type": "execute_result"
    }
   ],
   "source": [
    "full_df['title']"
   ]
  },
  {
   "cell_type": "code",
   "execution_count": 182,
   "id": "5866fe0e",
   "metadata": {},
   "outputs": [],
   "source": [
    "import string"
   ]
  },
  {
   "cell_type": "code",
   "execution_count": 183,
   "id": "e422aa31",
   "metadata": {},
   "outputs": [
    {
     "data": {
      "text/plain": [
       "'!\"#$%&\\'()*+,-./:;<=>?@[\\\\]^_`{|}~'"
      ]
     },
     "execution_count": 183,
     "metadata": {},
     "output_type": "execute_result"
    }
   ],
   "source": [
    "string.punctuation"
   ]
  },
  {
   "cell_type": "code",
   "execution_count": 185,
   "id": "ad0c23b6",
   "metadata": {},
   "outputs": [
    {
     "data": {
      "text/plain": [
       "3"
      ]
     },
     "execution_count": 185,
     "metadata": {},
     "output_type": "execute_result"
    }
   ],
   "source": [
    "length = []\n",
    "for char in full_df['title'][1]:\n",
    "    if char in string.punctuation:\n",
    "        length.append(char)\n",
    "len(length)"
   ]
  },
  {
   "cell_type": "code",
   "execution_count": 188,
   "id": "64970293",
   "metadata": {},
   "outputs": [
    {
     "data": {
      "text/plain": [
       "3"
      ]
     },
     "execution_count": 188,
     "metadata": {},
     "output_type": "execute_result"
    }
   ],
   "source": [
    "len([char for char in full_df['title'][1] if char in string.punctuation])\n"
   ]
  },
  {
   "cell_type": "code",
   "execution_count": 195,
   "id": "0a9bac3d",
   "metadata": {},
   "outputs": [],
   "source": [
    "def punc_func(text):\n",
    "    return len([char for char in text if char in string.punctuation])\n"
   ]
  },
  {
   "cell_type": "code",
   "execution_count": 196,
   "id": "8cb3a54b",
   "metadata": {},
   "outputs": [],
   "source": [
    "sample = full_df[0:10000]"
   ]
  },
  {
   "cell_type": "code",
   "execution_count": 197,
   "id": "01237a9c",
   "metadata": {},
   "outputs": [],
   "source": [
    "sample['punc_func'] = sample['title'].apply(punc_func)"
   ]
  },
  {
   "cell_type": "code",
   "execution_count": 199,
   "id": "877542b4",
   "metadata": {},
   "outputs": [
    {
     "data": {
      "text/plain": [
       "0       0\n",
       "1       3\n",
       "2       3\n",
       "3       2\n",
       "4       3\n",
       "       ..\n",
       "9995    0\n",
       "9996    2\n",
       "9997    2\n",
       "9998    2\n",
       "9999    0\n",
       "Name: punc_func, Length: 10000, dtype: int64"
      ]
     },
     "execution_count": 199,
     "metadata": {},
     "output_type": "execute_result"
    }
   ],
   "source": [
    "sample['punc_func']"
   ]
  },
  {
   "cell_type": "code",
   "execution_count": 200,
   "id": "99716455",
   "metadata": {},
   "outputs": [
    {
     "data": {
      "image/png": "[encoded data removed]",
      "text/plain": [
       "<Figure size 800x600 with 1 Axes>"
      ]
     },
     "metadata": {},
     "output_type": "display_data"
    }
   ],
   "source": [
    "plt.figure(figsize=(8,6))\n",
    "sns.boxplot(x='punc_func',y='views',data=sample)\n",
    "plt.show()"
   ]
  }
 ],
 "metadata": {
  "kernelspec": {
   "display_name": "base",
   "language": "python",
   "name": "python3"
  },
  "language_info": {
   "codemirror_mode": {
    "name": "ipython",
    "version": 3
   },
   "file_extension": ".py",
   "mimetype": "text/x-python",
   "name": "python",
   "nbconvert_exporter": "python",
   "pygments_lexer": "ipython3",
   "version": "3.12.7"
  }
 },
 "nbformat": 4,
 "nbformat_minor": 5
}
